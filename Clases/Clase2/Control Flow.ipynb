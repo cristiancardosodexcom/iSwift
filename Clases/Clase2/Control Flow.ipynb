{
 "cells": [
  {
   "cell_type": "markdown",
   "metadata": {},
   "source": [
    "# Control Flow\n",
    "\n"
   ]
  },
  {
   "cell_type": "markdown",
   "metadata": {},
   "source": [
    "Swift provides a variety of control flow statements. These include while loops to perform a task multiple times; if, guard, and switch statements to execute different branches of code based on certain conditions; and statements such as break and continue to transfer the flow of execution to another point in your code.\n",
    "\n",
    "Swift also provides a for-in loop that makes it easy to iterate over arrays, dictionaries, ranges, strings, and other sequences."
   ]
  },
  {
   "cell_type": "markdown",
   "metadata": {},
   "source": [
    "# For-In Loops\n",
    "\n"
   ]
  },
  {
   "cell_type": "markdown",
   "metadata": {},
   "source": [
    "You use the for-in loop to iterate over a sequence, such as items in an array, ranges of numbers, or characters in a string.\n",
    "\n"
   ]
  },
  {
   "cell_type": "markdown",
   "metadata": {},
   "source": [
    "This example uses a for-in loop to iterate over the items in an array:\n",
    "\n"
   ]
  },
  {
   "cell_type": "code",
   "execution_count": 1,
   "metadata": {},
   "outputs": [
    {
     "data": {
      "text/plain": [
       "names: [String] = 4 values {\r\n",
       "  [0] = \"Anna\"\r\n",
       "  [1] = \"Alex\"\r\n",
       "  [2] = \"Brian\"\r\n",
       "  [3] = \"Jack\"\r\n",
       "}"
      ]
     },
     "execution_count": 1,
     "metadata": {},
     "output_type": "execute_result"
    }
   ],
   "source": [
    "let names = [\"Anna\", \"Alex\", \"Brian\", \"Jack\"]\n"
   ]
  },
  {
   "cell_type": "code",
   "execution_count": 2,
   "metadata": {},
   "outputs": [
    {
     "data": {
      "text/plain": []
     },
     "execution_count": 2,
     "metadata": {},
     "output_type": "execute_result"
    }
   ],
   "source": [
    "for name in names {\n",
    "    print(\"Hello, \\()!\" + name)\n",
    "}"
   ]
  },
  {
   "cell_type": "markdown",
   "metadata": {},
   "source": [
    "You can also iterate over a dictionary to access its key-value pairs. Each item in the dictionary is returned as a (key, value) tuple when the dictionary is iterated, and you can decompose the (key, value) tuple’s members as explicitly named constants for use within the body of the for-in loop. In the code example below, the dictionary’s keys are decomposed into a constant called animalName, and the dictionary’s values are decomposed into a constant called legCount."
   ]
  },
  {
   "cell_type": "code",
   "execution_count": 3,
   "metadata": {},
   "outputs": [
    {
     "data": {
      "text/plain": []
     },
     "execution_count": 3,
     "metadata": {},
     "output_type": "execute_result"
    }
   ],
   "source": [
    "let numberOfLegs = [\"spider\": 8, \"ant\": 6, \"cat\": 4]\n"
   ]
  },
  {
   "cell_type": "code",
   "execution_count": 4,
   "metadata": {},
   "outputs": [
    {
     "data": {
      "text/plain": []
     },
     "execution_count": 4,
     "metadata": {},
     "output_type": "execute_result"
    }
   ],
   "source": [
    "for (animalName, legCount) in numberOfLegs {\n",
    "    print(\"\\(animalName)s have \\(legCount) legs\")\n",
    "}"
   ]
  },
  {
   "cell_type": "markdown",
   "metadata": {},
   "source": [
    "You can also use for-in loops with numeric ranges. This example prints the first few entries in a five-times table:\n",
    "\n"
   ]
  },
  {
   "cell_type": "code",
   "execution_count": 5,
   "metadata": {},
   "outputs": [
    {
     "data": {
      "text/plain": []
     },
     "execution_count": 5,
     "metadata": {},
     "output_type": "execute_result"
    }
   ],
   "source": [
    "for index in 1...5 {\n",
    "    print(\"\\(index) times 5 is \\(index * 5)\")\n",
    "}"
   ]
  },
  {
   "cell_type": "code",
   "execution_count": 6,
   "metadata": {},
   "outputs": [
    {
     "data": {
      "text/plain": []
     },
     "execution_count": 6,
     "metadata": {},
     "output_type": "execute_result"
    }
   ],
   "source": [
    "let base = 3\n",
    "let power = 10\n",
    "var answer = 1\n",
    "for _ in 1...power {\n",
    "    answer *= base\n",
    "    print(\"\\(answer)\")\n",
    "}\n",
    "print(\"\\(base) to the power of \\(power) is \\(answer)\")\n",
    "// Prints \"3 to the power of 10 is 59049\""
   ]
  },
  {
   "cell_type": "code",
   "execution_count": 21,
   "metadata": {},
   "outputs": [
    {
     "data": {
      "text/plain": []
     },
     "execution_count": 21,
     "metadata": {},
     "output_type": "execute_result"
    }
   ],
   "source": [
    "let minutes = 60\n",
    "for tickMark in 0..<minutes {\n",
    "    // render the tick mark each minute (60 times)\n",
    "    print(\"\\(tickMark)\")\n",
    "}"
   ]
  },
  {
   "cell_type": "markdown",
   "metadata": {},
   "source": [
    "# While Loops\n",
    "\n"
   ]
  },
  {
   "cell_type": "markdown",
   "metadata": {},
   "source": [
    "A while loop performs a set of statements until a condition becomes false. These kinds of loops are best used when the number of iterations is not known before the first iteration begins. Swift provides two kinds of while loops:"
   ]
  },
  {
   "cell_type": "markdown",
   "metadata": {},
   "source": [
    "- while evaluates its condition at the start of each pass through the loop.\n",
    "- repeat-while evaluates its condition at the end of each pass through the loop.\n"
   ]
  },
  {
   "cell_type": "code",
   "execution_count": 8,
   "metadata": {},
   "outputs": [
    {
     "data": {
      "text/plain": []
     },
     "execution_count": 8,
     "metadata": {},
     "output_type": "execute_result"
    }
   ],
   "source": [
    "var x = 0\n",
    "while x < 10 {\n",
    "    print(x)\n",
    "    x += 1;\n",
    "}"
   ]
  },
  {
   "cell_type": "code",
   "execution_count": 9,
   "metadata": {},
   "outputs": [
    {
     "data": {
      "text/plain": []
     },
     "execution_count": 9,
     "metadata": {},
     "output_type": "execute_result"
    }
   ],
   "source": [
    "var x = 0\n",
    "repeat {\n",
    "    print(x)\n",
    "    x += 1;\n",
    "} while x < 10"
   ]
  },
  {
   "cell_type": "markdown",
   "metadata": {},
   "source": [
    "# Conditional Statements\n",
    "\n"
   ]
  },
  {
   "cell_type": "markdown",
   "metadata": {},
   "source": [
    "If\n",
    "In its simplest form, the if statement has a single if condition. It executes a set of statements only if that condition is true."
   ]
  },
  {
   "cell_type": "code",
   "execution_count": 10,
   "metadata": {},
   "outputs": [
    {
     "data": {
      "text/plain": []
     },
     "execution_count": 10,
     "metadata": {},
     "output_type": "execute_result"
    }
   ],
   "source": [
    "var temperatureInFahrenheit = 30\n",
    "if temperatureInFahrenheit <= 32 {\n",
    "    print(\"It's very cold. Consider wearing a scarf.\")\n",
    "}"
   ]
  },
  {
   "cell_type": "markdown",
   "metadata": {},
   "source": [
    "# Switch"
   ]
  },
  {
   "cell_type": "markdown",
   "metadata": {},
   "source": [
    "A switch statement considers a value and compares it against several possible matching patterns. It then executes an appropriate block of code, based on the first pattern that matches successfully. A switch statement provides an alternative to the if statement for responding to multiple potential states.\n",
    "\n",
    "In its simplest form, a switch statement compares a value against one or more values of the same type."
   ]
  },
  {
   "cell_type": "code",
   "execution_count": 11,
   "metadata": {},
   "outputs": [
    {
     "data": {
      "text/plain": []
     },
     "execution_count": 11,
     "metadata": {},
     "output_type": "execute_result"
    }
   ],
   "source": [
    "let someCharacter: Character = \"z\"\n",
    "switch someCharacter {\n",
    "case \"a\":\n",
    "    print(\"The first letter of the alphabet\")\n",
    "case \"z\":\n",
    "    print(\"The last letter of the alphabet\")\n",
    "default:\n",
    "    print(\"Some other character\")\n",
    "}"
   ]
  },
  {
   "cell_type": "markdown",
   "metadata": {},
   "source": [
    "No Implicit Fallthrough\n",
    "In contrast with switch statements in C and Objective-C, switch statements in Swift do not fall through the bottom of each case and into the next one by default. Instead, the entire switch statement finishes its execution as soon as the first matching switch case is completed, **without requiring an explicit break statement**. This makes the switch statement safer and easier to use than the one in C and avoids executing more than one switch case by mistake."
   ]
  },
  {
   "cell_type": "code",
   "execution_count": 12,
   "metadata": {},
   "outputs": [
    {
     "data": {
      "text/plain": []
     },
     "execution_count": 12,
     "metadata": {},
     "output_type": "execute_result"
    }
   ],
   "source": [
    "let anotherCharacter: Character = \"a\"\n",
    "switch anotherCharacter {\n",
    "case \"a\", \"A\":\n",
    "    print(\"The letter A\")\n",
    "default:\n",
    "    print(\"Not the letter A\")\n",
    "}"
   ]
  },
  {
   "cell_type": "markdown",
   "metadata": {},
   "source": [
    "# Interval Matching\n"
   ]
  },
  {
   "cell_type": "markdown",
   "metadata": {},
   "source": [
    "Values in switch cases can be checked for their inclusion in an interval. This example uses number intervals to provide a natural-language count for numbers of any size:\n",
    "\n"
   ]
  },
  {
   "cell_type": "code",
   "execution_count": 13,
   "metadata": {},
   "outputs": [
    {
     "data": {
      "text/plain": []
     },
     "execution_count": 13,
     "metadata": {},
     "output_type": "execute_result"
    }
   ],
   "source": [
    "let approximateCount = 62\n",
    "let countedThings = \"moons orbiting Saturn\"\n",
    "var naturalCount: String = \"\"\n",
    "switch approximateCount {\n",
    "case 0:\n",
    "    naturalCount = \"no\"\n",
    "case 1..<5:\n",
    "    naturalCount = \"a few\"\n",
    "case 5..<12:\n",
    "    naturalCount = \"several\"\n",
    "case 12..<100:\n",
    "    naturalCount = \"dozens of\"\n",
    "case 100..<1000:\n",
    "    naturalCount = \"hundreds of\"\n",
    "default:\n",
    "    naturalCount = \"many\"\n",
    "}\n",
    "print(\"There are \\(naturalCount) \\(countedThings).\")\n",
    "// Prints \"There are dozens of moons orbiting Saturn.\""
   ]
  },
  {
   "cell_type": "markdown",
   "metadata": {},
   "source": [
    "# Tuples"
   ]
  },
  {
   "cell_type": "markdown",
   "metadata": {},
   "source": [
    "You can use tuples to test multiple values in the same switch statement. Each element of the tuple can be tested against a different value or interval of values. Alternatively, use the underscore character (_), also known as the wildcard pattern, to match any possible value.\n",
    "\n",
    "The example below takes an (x, y) point, expressed as a simple tuple of type (Int, Int), and categorizes it on the graph that follows the example."
   ]
  },
  {
   "cell_type": "code",
   "execution_count": 14,
   "metadata": {},
   "outputs": [
    {
     "data": {
      "text/plain": []
     },
     "execution_count": 14,
     "metadata": {},
     "output_type": "execute_result"
    }
   ],
   "source": [
    "let somePoint = (1, 1)\n",
    "switch somePoint {\n",
    "case (0, 0):\n",
    "    print(\"\\(somePoint) is at the origin\")\n",
    "case (_, 0):\n",
    "    print(\"\\(somePoint) is on the x-axis\")\n",
    "case (0, _):\n",
    "    print(\"\\(somePoint) is on the y-axis\")\n",
    "case (-2...2, -2...2):\n",
    "    print(\"\\(somePoint) is inside the box\")\n",
    "default:\n",
    "    print(\"\\(somePoint) is outside of the box\")\n",
    "}"
   ]
  },
  {
   "cell_type": "markdown",
   "metadata": {},
   "source": [
    "    However, if multiple matches are possible, the first matching case is always used."
   ]
  },
  {
   "cell_type": "markdown",
   "metadata": {},
   "source": [
    "# Value Bindings\n"
   ]
  },
  {
   "cell_type": "markdown",
   "metadata": {},
   "source": [
    "A switch case can name the value or values it matches to temporary constants or variables, for use in the body of the case. This behavior is known as value binding, because the values are bound to temporary constants or variables within the case’s body.\n",
    "\n",
    "The example below takes an (x, y) point, expressed as a tuple of type (Int, Int), and categorizes it on the graph that follows:\n",
    "\n"
   ]
  },
  {
   "cell_type": "code",
   "execution_count": 15,
   "metadata": {},
   "outputs": [
    {
     "data": {
      "text/plain": []
     },
     "execution_count": 15,
     "metadata": {},
     "output_type": "execute_result"
    }
   ],
   "source": [
    "let anotherPoint = (2, 0)\n",
    "switch anotherPoint {\n",
    "case (let x, 0):\n",
    "    print(\"on the x-axis with an x value of \\(x)\")\n",
    "case (0, let y):\n",
    "    print(\"on the y-axis with a y value of \\(y)\")\n",
    "case let (x, y):\n",
    "    print(\"somewhere else at (\\(x), \\(y))\")\n",
    "}\n",
    "// Prints \"on the x-axis with an x value of 2\""
   ]
  },
  {
   "cell_type": "markdown",
   "metadata": {},
   "source": [
    "This switch statement does not have a default case. The final case, case let (x, y), declares a tuple of two placeholder constants that can match any value. Because anotherPoint is always a tuple of two values, this case matches all possible remaining values, and a default case is not needed to make the switch statement exhaustive."
   ]
  },
  {
   "cell_type": "markdown",
   "metadata": {},
   "source": [
    "# Where"
   ]
  },
  {
   "cell_type": "markdown",
   "metadata": {},
   "source": [
    "A switch case can use a where clause to check for additional conditions.\n",
    "\n"
   ]
  },
  {
   "cell_type": "code",
   "execution_count": 16,
   "metadata": {},
   "outputs": [
    {
     "data": {
      "text/plain": []
     },
     "execution_count": 16,
     "metadata": {},
     "output_type": "execute_result"
    }
   ],
   "source": [
    "let yetAnotherPoint = (1, -1)\n",
    "switch yetAnotherPoint {\n",
    "case let (x, y) where x == y:\n",
    "    print(\"(\\(x), \\(y)) is on the line x == y\")\n",
    "case let (x, y) where x == -y:\n",
    "    print(\"(\\(x), \\(y)) is on the line x == -y\")\n",
    "case let (x, y):\n",
    "    print(\"(\\(x), \\(y)) is just some arbitrary point\")\n",
    "}"
   ]
  },
  {
   "cell_type": "code",
   "execution_count": 17,
   "metadata": {},
   "outputs": [
    {
     "data": {
      "text/plain": []
     },
     "execution_count": 17,
     "metadata": {},
     "output_type": "execute_result"
    }
   ],
   "source": [
    "let stillAnotherPoint = (9, 0)\n",
    "switch stillAnotherPoint {\n",
    "case (let distance, 0), (0, let distance):\n",
    "    print(\"On an axis, \\(distance) from the origin\")\n",
    "default:\n",
    "    print(\"Not on an axis\")\n",
    "}"
   ]
  },
  {
   "cell_type": "markdown",
   "metadata": {},
   "source": [
    "# Control Transfer Statements\n",
    "\n"
   ]
  },
  {
   "cell_type": "markdown",
   "metadata": {},
   "source": [
    "Control transfer statements change the order in which your code is executed, by transferring control from one piece of code to another. Swift has five control transfer statements:\n",
    "\n"
   ]
  },
  {
   "cell_type": "markdown",
   "metadata": {},
   "source": [
    "- continue\n",
    "- break\n",
    "- fallthrough\n",
    "- return\n",
    "- throw\n"
   ]
  },
  {
   "cell_type": "markdown",
   "metadata": {},
   "source": [
    "# Continue"
   ]
  },
  {
   "cell_type": "markdown",
   "metadata": {},
   "source": [
    "The continue statement tells a loop to stop what it is doing and start again at the beginning of the next iteration through the loop. It says “I am done with the current loop iteration” without leaving the loop altogether."
   ]
  },
  {
   "cell_type": "code",
   "execution_count": 18,
   "metadata": {},
   "outputs": [
    {
     "data": {
      "text/plain": []
     },
     "execution_count": 18,
     "metadata": {},
     "output_type": "execute_result"
    }
   ],
   "source": [
    "let puzzleInput = \"great minds think alike\"\n",
    "var puzzleOutput = \"\"\n",
    "let charactersToRemove: [Character] = [\"a\", \"e\", \"i\", \"o\", \"u\", \" \"]\n",
    "for character in puzzleInput {\n",
    "    if charactersToRemove.contains(character) {\n",
    "        continue\n",
    "    }\n",
    "    puzzleOutput.append(character)\n",
    "}\n",
    "print(puzzleOutput)"
   ]
  },
  {
   "cell_type": "code",
   "execution_count": 19,
   "metadata": {},
   "outputs": [
    {
     "data": {
      "text/plain": []
     },
     "execution_count": 19,
     "metadata": {},
     "output_type": "execute_result"
    }
   ],
   "source": [
    "let integerToDescribe = 5\n",
    "var description = \"The number \\(integerToDescribe) is\"\n",
    "switch integerToDescribe {\n",
    "case 2, 3, 5, 7, 11, 13, 17, 19:\n",
    "    description += \" a prime number, and also\"\n",
    "    fallthrough\n",
    "default:\n",
    "    description += \" an integer.\"\n",
    "}\n",
    "print(description)\n",
    "// Prints \"The number 5 is a prime number, and also an integer.\""
   ]
  },
  {
   "cell_type": "markdown",
   "metadata": {},
   "source": [
    "# Early Exit\n",
    "\n",
    "\n"
   ]
  },
  {
   "cell_type": "markdown",
   "metadata": {},
   "source": [
    "A guard statement, like an if statement, executes statements depending on the Boolean value of an expression. You use a guard statement to require that a condition must be true in order for the code after the guard statement to be executed. Unlike an if statement, a guard statement always has an else clause—the code inside the else clause is executed if the condition is not true."
   ]
  },
  {
   "cell_type": "code",
   "execution_count": 20,
   "metadata": {},
   "outputs": [
    {
     "data": {
      "text/plain": []
     },
     "execution_count": 20,
     "metadata": {},
     "output_type": "execute_result"
    }
   ],
   "source": [
    "func greet(person: [String: String]) {\n",
    "    guard let name = person[\"name\"] else {\n",
    "        return\n",
    "    }\n",
    "\n",
    "    print(\"Hello \\(name)!\")\n",
    "\n",
    "    guard let location = person[\"location\"] else {\n",
    "        print(\"I hope the weather is nice near you.\")\n",
    "        return\n",
    "    }\n",
    "\n",
    "    print(\"I hope the weather is nice in \\(location).\")\n",
    "}\n",
    "\n",
    "greet(person: [\"name\": \"John\"])\n",
    "// Prints \"Hello John!\"\n",
    "// Prints \"I hope the weather is nice near you.\"\n",
    "greet(person: [\"name\": \"Jane\", \"location\": \"Cupertino\"])\n",
    "// Prints \"Hello Jane!\"\n",
    "// Prints \"I hope the weather is nice in Cupertino.\""
   ]
  },
  {
   "cell_type": "code",
   "execution_count": null,
   "metadata": {},
   "outputs": [],
   "source": []
  }
 ],
 "metadata": {
  "kernelspec": {
   "display_name": "Swift",
   "language": "swift",
   "name": "iswiftkernel"
  },
  "language_info": {
   "file_extension": ".swift",
   "mimetype": "text/swift",
   "name": "swift",
   "version": "2.1"
  }
 },
 "nbformat": 4,
 "nbformat_minor": 4
}
