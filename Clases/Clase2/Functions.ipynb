{
 "cells": [
  {
   "cell_type": "markdown",
   "metadata": {},
   "source": [
    "# Functions"
   ]
  },
  {
   "cell_type": "markdown",
   "metadata": {},
   "source": [
    "When you define a function, you can optionally define one or more named, typed values that the function takes as input, known as parameters. You can also optionally define a type of value that the function will pass back as output when it is done, known as its return type."
   ]
  },
  {
   "cell_type": "markdown",
   "metadata": {},
   "source": [
    "The function in the example below is called greet(person:), because that’s what it does—it takes a person’s name as input and returns a greeting for that person. To accomplish this, you define one input parameter—a String value called person—and a return type of String, which will contain a greeting for that person:\n",
    "\n"
   ]
  },
  {
   "cell_type": "code",
   "execution_count": null,
   "metadata": {},
   "outputs": [],
   "source": [
    "func greet(person: String) -> String {\n",
    "    let greeting = \"Hello, \" + person + \"!\"\n",
    "    return greeting\n",
    "}"
   ]
  },
  {
   "cell_type": "code",
   "execution_count": null,
   "metadata": {},
   "outputs": [],
   "source": [
    "func greetAgain(person: String) -> String {\n",
    "    return \"Hello again, \" + person + \"!\"\n",
    "}"
   ]
  },
  {
   "cell_type": "markdown",
   "metadata": {},
   "source": [
    "All of this information is rolled up into the function’s definition, which is prefixed with the func keyword. You indicate the function’s return type with the return arrow -> (a hyphen followed by a right angle bracket), which is followed by the name of the type to return.\n",
    "\n",
    "The definition describes what the function does, what it expects to receive, and what it returns when it is done. The definition makes it easy for the function to be called unambiguously from elsewhere in your code:"
   ]
  },
  {
   "cell_type": "code",
   "execution_count": null,
   "metadata": {},
   "outputs": [],
   "source": [
    "print(greet(person: \"Anna\"))\n",
    "// Prints \"Hello, Anna!\"\n"
   ]
  },
  {
   "cell_type": "code",
   "execution_count": null,
   "metadata": {},
   "outputs": [],
   "source": [
    "print(greet(person: \"Brian\"))\n",
    "// Prints \"Hello, Brian!\""
   ]
  },
  {
   "cell_type": "markdown",
   "metadata": {},
   "source": [
    "# Function Parameters and Return Values\n",
    "\n"
   ]
  },
  {
   "cell_type": "markdown",
   "metadata": {},
   "source": [
    "Function parameters and return values are extremely flexible in Swift. You can define anything from a simple utility function with a single unnamed parameter to a complex function with expressive parameter names and different parameter options.\n",
    "\n"
   ]
  },
  {
   "cell_type": "markdown",
   "metadata": {},
   "source": [
    "# Functions Without Parameters\n"
   ]
  },
  {
   "cell_type": "markdown",
   "metadata": {},
   "source": [
    "Functions are not required to define input parameters. Here’s a function with no input parameters, which always returns the same String message whenever it is called:\n",
    "\n"
   ]
  },
  {
   "cell_type": "code",
   "execution_count": null,
   "metadata": {},
   "outputs": [],
   "source": [
    "func sayHelloWorld() -> String {\n",
    "    return \"hello, world\"\n",
    "}\n",
    "print(sayHelloWorld())\n",
    "// Prints \"hello, world\""
   ]
  },
  {
   "cell_type": "markdown",
   "metadata": {},
   "source": [
    "# Functions With Multiple Parameters\n"
   ]
  },
  {
   "cell_type": "markdown",
   "metadata": {},
   "source": [
    "Functions can have multiple input parameters, which are written within the function’s parentheses, separated by commas.\n",
    "\n",
    "This function takes a person’s name and whether they have already been greeted as input, and returns an appropriate greeting for that person:"
   ]
  },
  {
   "cell_type": "code",
   "execution_count": null,
   "metadata": {},
   "outputs": [],
   "source": [
    "func greet(person: String, alreadyGreeted: Bool) -> String {\n",
    "    if alreadyGreeted {\n",
    "        return greetAgain(person: person)\n",
    "    } else {\n",
    "        return greet(person: person)\n",
    "    }\n",
    "}\n",
    "\n",
    "print(greet(person: \"Tim\", alreadyGreeted: true))\n",
    "// Prints \"Hello again, Tim!\"\n"
   ]
  },
  {
   "cell_type": "markdown",
   "metadata": {},
   "source": [
    "# Functions Without Return Values\n"
   ]
  },
  {
   "cell_type": "markdown",
   "metadata": {},
   "source": [
    "Functions are not required to define a return type. Here’s a version of the greet(person:) function, which prints its own String value rather than returning it:\n",
    "\n"
   ]
  },
  {
   "cell_type": "code",
   "execution_count": null,
   "metadata": {},
   "outputs": [],
   "source": [
    "func greet2(person: String) {\n",
    "    print(\"Hello, \\(person)!\")\n",
    "}\n",
    "greet2(person: \"Dave\")\n",
    "// Prints \"Hello, Dave!\""
   ]
  },
  {
   "cell_type": "markdown",
   "metadata": {},
   "source": [
    "**Because it does not need to return a value, the function’s definition does not include the return arrow (->) or a return type.**"
   ]
  },
  {
   "cell_type": "markdown",
   "metadata": {},
   "source": [
    "The return value of a function can be ignored when it is called:\n",
    "\n"
   ]
  },
  {
   "cell_type": "code",
   "execution_count": null,
   "metadata": {},
   "outputs": [],
   "source": [
    "func printAndCount() -> Int {\n",
    "    return 0\n",
    "}\n",
    "func printWithoutCounting() {\n",
    "    let _ = printAndCount()\n",
    "}\n",
    "printAndCount()\n",
    "// prints \"hello, world\" and returns a value of 12\n",
    "printWithoutCounting()\n",
    "// prints \"hello, world\" but does not return a value"
   ]
  },
  {
   "cell_type": "markdown",
   "metadata": {},
   "source": [
    "# Functions with Multiple Return Values\n"
   ]
  },
  {
   "cell_type": "markdown",
   "metadata": {},
   "source": [
    "You can use a tuple type as the return type for a function to return multiple values as part of one compound return value.\n",
    "\n",
    "The example below defines a function called minMax(array:), which finds the smallest and largest numbers in an array of Int values:"
   ]
  },
  {
   "cell_type": "code",
   "execution_count": null,
   "metadata": {},
   "outputs": [],
   "source": [
    "func minMax(array: [Int]) -> (min: Int, max: Int) {\n",
    "    var currentMin = array[0]\n",
    "    var currentMax = array[0]\n",
    "    for value in array[1..<array.count] {\n",
    "        if value < currentMin {\n",
    "            currentMin = value\n",
    "        } else if value > currentMax {\n",
    "            currentMax = value\n",
    "        }\n",
    "    }\n",
    "    return (currentMin, currentMax)\n",
    "}"
   ]
  },
  {
   "cell_type": "code",
   "execution_count": null,
   "metadata": {},
   "outputs": [],
   "source": [
    "let bounds = minMax(array: [8, -6, 2, 109, 3, 71])\n",
    "print(\"min is \\(bounds.min) and max is \\(bounds.max)\")\n",
    "// Prints \"min is -6 and max is 109\"\n"
   ]
  },
  {
   "cell_type": "markdown",
   "metadata": {},
   "source": [
    "# Optional Tuple Return Types\n"
   ]
  },
  {
   "cell_type": "markdown",
   "metadata": {},
   "source": [
    "If the tuple type to be returned from a function has the potential to have “no value” for the entire tuple, you can use an optional tuple return type to reflect the fact that the entire tuple can be nil. You write an optional tuple return type by placing a question mark after the tuple type’s closing parenthesis, such as (Int, Int)? or (String, Int, Bool)?."
   ]
  },
  {
   "cell_type": "markdown",
   "metadata": {},
   "source": [
    "To handle an empty array safely, write the minMax(array:) function with an optional tuple return type and return a value of nil when the array is empty:"
   ]
  },
  {
   "cell_type": "code",
   "execution_count": null,
   "metadata": {},
   "outputs": [],
   "source": [
    "func minMax2(array: [Int]) -> (min: Int, max: Int)? {\n",
    "    if array.isEmpty { return nil }\n",
    "    var currentMin = array[0]\n",
    "    var currentMax = array[0]\n",
    "    for value in array[1..<array.count] {\n",
    "        if value < currentMin {\n",
    "            currentMin = value\n",
    "        } else if value > currentMax {\n",
    "            currentMax = value\n",
    "        }\n",
    "    }\n",
    "    return (currentMin, currentMax)\n",
    "}"
   ]
  },
  {
   "cell_type": "markdown",
   "metadata": {},
   "source": [
    "You can use optional binding to check whether this version of the minMax(array:) function returns an actual tuple value or nil:\n",
    "\n"
   ]
  },
  {
   "cell_type": "code",
   "execution_count": null,
   "metadata": {},
   "outputs": [],
   "source": [
    "if let bounds = minMax2(array: [8, -6, 2, 109, 3, 71]) {\n",
    "    print(\"min is \\(bounds.min) and max is \\(bounds.max)\")\n",
    "}\n",
    "// Prints \"min is -6 and max is 109\""
   ]
  },
  {
   "cell_type": "markdown",
   "metadata": {},
   "source": [
    "# Functions With an Implicit Return\n"
   ]
  },
  {
   "cell_type": "markdown",
   "metadata": {},
   "source": [
    "If the entire body of the function is a single expression, the function implicitly returns that expression. For example, both functions below have the same behavior:\n",
    "\n"
   ]
  },
  {
   "cell_type": "code",
   "execution_count": 3,
   "metadata": {},
   "outputs": [
    {
     "data": {
      "text/plain": [
       "error: repl.swift:14:1: error: missing return in a function expected to return 'String'\r\n",
       "}\r\n",
       "^\r\n",
       "error: Couldn't lookup symbols:\r\n",
       "  __lldb_expr_17.greeting (for : Swift.String) -> Swift.String\r\n",
       "Hello, Dave!"
      ]
     },
     "execution_count": 3,
     "metadata": {},
     "output_type": "execute_result"
    }
   ],
   "source": [
    "func greeting(for person: String) -> String {\n",
    "    \"Hello, \" + person + \"!\"\n",
    "}\n",
    "print(greeting(for: \"Dave\"))\n",
    "// Prints \"Hello, Dave!\"\n",
    "\n",
    "func anotherGreeting(for person: String) -> String {\n",
    "    return \"Hello, \" + person + \"!\"\n",
    "}\n",
    "print(anotherGreeting(for: \"Dave\"))\n",
    "// Prints \"Hello, Dave!\"\n"
   ]
  },
  {
   "cell_type": "markdown",
   "metadata": {},
   "source": [
    "# Specifying Argument Labels\n"
   ]
  },
  {
   "cell_type": "markdown",
   "metadata": {},
   "source": [
    "You write an argument label before the parameter name, separated by a space:\n",
    "\n"
   ]
  },
  {
   "cell_type": "code",
   "execution_count": 4,
   "metadata": {},
   "outputs": [
    {
     "data": {
      "text/plain": []
     },
     "execution_count": 4,
     "metadata": {},
     "output_type": "execute_result"
    }
   ],
   "source": [
    "func someFunction(argumentLabel parameterName: Int) {\n",
    "    // In the function body, parameterName refers to the argument value\n",
    "    // for that parameter.\n",
    "}\n"
   ]
  },
  {
   "cell_type": "markdown",
   "metadata": {},
   "source": [
    "Variation of previous function"
   ]
  },
  {
   "cell_type": "code",
   "execution_count": 5,
   "metadata": {},
   "outputs": [
    {
     "data": {
      "text/plain": [
       "Hello Bill!  Glad you could visit from Cupertino."
      ]
     },
     "execution_count": 5,
     "metadata": {},
     "output_type": "execute_result"
    }
   ],
   "source": [
    "func greet(person: String, from hometown: String) -> String {\n",
    "    return \"Hello \\(person)!  Glad you could visit from \\(hometown).\"\n",
    "}\n",
    "print(greet(person: \"Bill\", from: \"Cupertino\"))\n",
    "// Prints \"Hello Bill!  Glad you could visit from Cupertino.\""
   ]
  },
  {
   "cell_type": "markdown",
   "metadata": {},
   "source": [
    "**The use of argument labels can allow a function to be called in an expressive, sentence-like manner, while still providing a function body that is readable and clear in intent.**\n",
    "\n"
   ]
  },
  {
   "cell_type": "markdown",
   "metadata": {},
   "source": [
    "# Omitting Argument Labels\n"
   ]
  },
  {
   "cell_type": "markdown",
   "metadata": {},
   "source": [
    "If you don’t want an argument label for a parameter, write an underscore (_) instead of an explicit argument label for that parameter."
   ]
  },
  {
   "cell_type": "code",
   "execution_count": 6,
   "metadata": {},
   "outputs": [
    {
     "data": {
      "text/plain": []
     },
     "execution_count": 6,
     "metadata": {},
     "output_type": "execute_result"
    }
   ],
   "source": [
    "func someFunction(_ firstParameterName: Int, secondParameterName: Int) {\n",
    "    // In the function body, firstParameterName and secondParameterName\n",
    "    // refer to the argument values for the first and second parameters.\n",
    "}\n",
    "someFunction(1, secondParameterName: 2)"
   ]
  },
  {
   "cell_type": "markdown",
   "metadata": {},
   "source": [
    "**If a parameter has an argument label, the argument must be labeled when you call the function.**"
   ]
  },
  {
   "cell_type": "markdown",
   "metadata": {},
   "source": [
    "# Default Parameter Values\n"
   ]
  },
  {
   "cell_type": "markdown",
   "metadata": {},
   "source": [
    "You can define a default value for any parameter in a function by assigning a value to the parameter after that parameter’s type. If a default value is defined, you can omit that parameter when calling the function.\n",
    "\n"
   ]
  },
  {
   "cell_type": "code",
   "execution_count": 7,
   "metadata": {},
   "outputs": [
    {
     "data": {
      "text/plain": []
     },
     "execution_count": 7,
     "metadata": {},
     "output_type": "execute_result"
    }
   ],
   "source": [
    "func someFunction(parameterWithoutDefault: Int, parameterWithDefault: Int = 12) {\n",
    "    // If you omit the second argument when calling this function, then\n",
    "    // the value of parameterWithDefault is 12 inside the function body.\n",
    "}\n",
    "someFunction(parameterWithoutDefault: 3, parameterWithDefault: 6) // parameterWithDefault is 6\n",
    "someFunction(parameterWithoutDefault: 4) // parameterWithDefault is 12"
   ]
  },
  {
   "cell_type": "markdown",
   "metadata": {},
   "source": [
    "# Variadic Parameters\n"
   ]
  },
  {
   "cell_type": "markdown",
   "metadata": {},
   "source": [
    "A variadic parameter accepts zero or more values of a specified type. You use a variadic parameter to specify that the parameter can be passed a varying number of input values when the function is called. Write variadic parameters by inserting three period characters **(...)** after the parameter’s type name."
   ]
  },
  {
   "cell_type": "markdown",
   "metadata": {},
   "source": [
    "The values passed to a variadic parameter are made available within the function’s body as an array of the appropriate type. For example, a variadic parameter with a name of numbers and a type of Double... is made available within the function’s body as a constant array called numbers of type [Double].\n",
    "\n"
   ]
  },
  {
   "cell_type": "code",
   "execution_count": 8,
   "metadata": {},
   "outputs": [
    {
     "data": {
      "text/plain": []
     },
     "execution_count": 8,
     "metadata": {},
     "output_type": "execute_result"
    }
   ],
   "source": [
    "func arithmeticMean(_ numbers: Double...) -> Double {\n",
    "    var total: Double = 0\n",
    "    for number in numbers {\n",
    "        total += number\n",
    "    }\n",
    "    return total / Double(numbers.count)\n",
    "}"
   ]
  },
  {
   "cell_type": "code",
   "execution_count": 9,
   "metadata": {},
   "outputs": [
    {
     "data": {
      "text/plain": [
       "$R0: Double = 3\r\n",
       "$R1: Double = 10"
      ]
     },
     "execution_count": 9,
     "metadata": {},
     "output_type": "execute_result"
    }
   ],
   "source": [
    "arithmeticMean(1, 2, 3, 4, 5)\n",
    "// returns 3.0, which is the arithmetic mean of these five numbers\n",
    "arithmeticMean(3, 8.25, 18.75)\n",
    "// returns 10.0, which is the arithmetic mean of these three numbers"
   ]
  },
  {
   "cell_type": "markdown",
   "metadata": {},
   "source": [
    "# In-Out Parameters\n"
   ]
  },
  {
   "cell_type": "markdown",
   "metadata": {},
   "source": [
    "Function parameters are constants by default. Trying to change the value of a function parameter from within the body of that function results in a compile-time error. This means that you can’t change the value of a parameter by mistake. If you want a function to modify a parameter’s value, and you want those changes to persist after the function call has ended, define that parameter as an in-out parameter instead.\n",
    "\n"
   ]
  },
  {
   "cell_type": "code",
   "execution_count": 10,
   "metadata": {},
   "outputs": [
    {
     "data": {
      "text/plain": []
     },
     "execution_count": 10,
     "metadata": {},
     "output_type": "execute_result"
    }
   ],
   "source": [
    "func swapTwoInts(_ a: inout Int, _ b: inout Int) {\n",
    "    let temporaryA = a\n",
    "    a = b\n",
    "    b = temporaryA\n",
    "}"
   ]
  },
  {
   "cell_type": "code",
   "execution_count": 11,
   "metadata": {},
   "outputs": [
    {
     "data": {
      "text/plain": [
       "someInt: Int = 3\r\n",
       "anotherInt: Int = 107\r\n",
       "someInt is now 107, and anotherInt is now 3"
      ]
     },
     "execution_count": 11,
     "metadata": {},
     "output_type": "execute_result"
    }
   ],
   "source": [
    "var someInt = 3\n",
    "var anotherInt = 107\n",
    "swapTwoInts(&someInt, &anotherInt)\n",
    "print(\"someInt is now \\(someInt), and anotherInt is now \\(anotherInt)\")\n",
    "// Prints \"someInt is now 107, and anotherInt is now 3\""
   ]
  },
  {
   "cell_type": "markdown",
   "metadata": {},
   "source": [
    "# Function Types\n",
    "\n"
   ]
  },
  {
   "cell_type": "code",
   "execution_count": 14,
   "metadata": {},
   "outputs": [
    {
     "data": {
      "text/plain": []
     },
     "execution_count": 14,
     "metadata": {},
     "output_type": "execute_result"
    }
   ],
   "source": [
    "func addTwoInts(_ a: Int, _ b: Int) -> Int {\n",
    "    return a + b\n",
    "}\n",
    "func multiplyTwoInts(_ a: Int, _ b: Int) -> Int {\n",
    "    return a * b\n",
    "}"
   ]
  },
  {
   "cell_type": "code",
   "execution_count": 15,
   "metadata": {},
   "outputs": [
    {
     "data": {
      "text/plain": [
       "mathFunction: (Int, Int) -> Int = 0x00007f986e46cfb0 $__lldb_expr74`__lldb_expr_73.addTwoInts (Swift.Int, Swift.Int) -> Swift.Int"
      ]
     },
     "execution_count": 15,
     "metadata": {},
     "output_type": "execute_result"
    }
   ],
   "source": [
    "var mathFunction: (Int, Int) -> Int = addTwoInts"
   ]
  },
  {
   "cell_type": "code",
   "execution_count": 16,
   "metadata": {},
   "outputs": [
    {
     "data": {
      "text/plain": [
       "Result: 5"
      ]
     },
     "execution_count": 16,
     "metadata": {},
     "output_type": "execute_result"
    }
   ],
   "source": [
    "print(\"Result: \\(mathFunction(2, 3))\")\n"
   ]
  },
  {
   "cell_type": "code",
   "execution_count": 17,
   "metadata": {},
   "outputs": [
    {
     "data": {
      "text/plain": [
       "mathFunction: (Int, Int) -> Int = 0x00007f986e46aed0 $__lldb_expr76`__lldb_expr_75.multiplyTwoInts (Swift.Int, Swift.Int) -> Swift.Int"
      ]
     },
     "execution_count": 17,
     "metadata": {},
     "output_type": "execute_result"
    }
   ],
   "source": [
    "var mathFunction: (Int, Int) -> Int = multiplyTwoInts"
   ]
  },
  {
   "cell_type": "code",
   "execution_count": 18,
   "metadata": {},
   "outputs": [
    {
     "data": {
      "text/plain": [
       "Result: 6"
      ]
     },
     "execution_count": 18,
     "metadata": {},
     "output_type": "execute_result"
    }
   ],
   "source": [
    "print(\"Result: \\(mathFunction(2, 3))\")\n",
    "\n"
   ]
  },
  {
   "cell_type": "markdown",
   "metadata": {},
   "source": [
    "# Nested Functions\n",
    "\n"
   ]
  },
  {
   "cell_type": "code",
   "execution_count": null,
   "metadata": {},
   "outputs": [],
   "source": []
  }
 ],
 "metadata": {
  "kernelspec": {
   "display_name": "Swift",
   "language": "swift",
   "name": "iswiftkernel"
  },
  "language_info": {
   "file_extension": ".swift",
   "mimetype": "text/swift",
   "name": "swift",
   "version": "2.1"
  }
 },
 "nbformat": 4,
 "nbformat_minor": 4
}
