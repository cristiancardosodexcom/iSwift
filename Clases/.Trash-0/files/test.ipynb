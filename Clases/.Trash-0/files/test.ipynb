{
 "cells": [
  {
   "cell_type": "code",
   "execution_count": 3,
   "id": "29404db7",
   "metadata": {},
   "outputs": [
    {
     "data": {
      "text/plain": [
       "xx: String = \"patito\""
      ]
     },
     "execution_count": 3,
     "metadata": {},
     "output_type": "execute_result"
    }
   ],
   "source": [
    "let xx = \"patito\""
   ]
  },
  {
   "cell_type": "code",
   "execution_count": 4,
   "id": "e7be0b8c",
   "metadata": {},
   "outputs": [
    {
     "data": {
      "text/plain": [
       "patito"
      ]
     },
     "execution_count": 4,
     "metadata": {},
     "output_type": "execute_result"
    }
   ],
   "source": [
    "print(xx)"
   ]
  },
  {
   "cell_type": "code",
   "execution_count": 6,
   "id": "7046d773",
   "metadata": {},
   "outputs": [
    {
     "data": {
      "text/plain": [
       "error: repl.swift:6:4: error: cannot assign to value: 'xx' is a 'let' constant\r\n",
       "xx = \"xxxxx\"\r\n",
       "~~ ^\r\n",
       "\r\n",
       "repl.swift:3:1: note: change 'let' to 'var' to make it mutable\r\n",
       "let xx = \"patito\"\r\n",
       "^~~\r\n",
       "var\r\n",
       "patito"
      ]
     },
     "execution_count": 6,
     "metadata": {},
     "output_type": "execute_result"
    }
   ],
   "source": [
    "xx = \"xxxxx\"\n",
    "print(xx)"
   ]
  },
  {
   "cell_type": "code",
   "execution_count": null,
   "id": "04c208dd",
   "metadata": {},
   "outputs": [],
   "source": []
  },
  {
   "cell_type": "code",
   "execution_count": 7,
   "id": "46d2a287",
   "metadata": {},
   "outputs": [
    {
     "data": {
      "text/plain": [
       "error: repl.swift:7:1: error: use of unresolved identifier 'x'\r\n",
       "x + \"xxx\"\r\n",
       "^"
      ]
     },
     "execution_count": 7,
     "metadata": {},
     "output_type": "execute_result"
    }
   ],
   "source": [
    "x + \"xxx\""
   ]
  },
  {
   "cell_type": "code",
   "execution_count": null,
   "id": "8303f573",
   "metadata": {},
   "outputs": [],
   "source": []
  }
 ],
 "metadata": {
  "kernelspec": {
   "display_name": "Swift",
   "language": "swift",
   "name": "iswiftkernel"
  },
  "language_info": {
   "file_extension": ".swift",
   "mimetype": "text/swift",
   "name": "swift",
   "version": "2.1"
  }
 },
 "nbformat": 4,
 "nbformat_minor": 5
}
