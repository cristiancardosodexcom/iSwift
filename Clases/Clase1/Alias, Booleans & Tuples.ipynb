{
 "cells": [
  {
   "cell_type": "markdown",
   "metadata": {},
   "source": [
    "# Type Aliases\n",
    "\n"
   ]
  },
  {
   "cell_type": "markdown",
   "metadata": {},
   "source": [
    "Type aliases define an alternative name for an existing type. You define type aliases with the typealias keyword.\n",
    "\n",
    "Type aliases are useful when you want to refer to an existing type by a name that is contextually more appropriate, such as when working with data of a specific size from an external source:"
   ]
  },
  {
   "cell_type": "code",
   "execution_count": 1,
   "metadata": {},
   "outputs": [
    {
     "data": {
      "text/plain": []
     },
     "execution_count": 1,
     "metadata": {},
     "output_type": "execute_result"
    }
   ],
   "source": [
    "typealias MiAlias = UInt16\n"
   ]
  },
  {
   "cell_type": "markdown",
   "metadata": {},
   "source": [
    "Once you define a type alias, you can use the alias anywhere you might use the original name:"
   ]
  },
  {
   "cell_type": "code",
   "execution_count": null,
   "metadata": {},
   "outputs": [],
   "source": [
    "var maxValue = MiAlias.min\n",
    "// maxAmplitudeFound is now 0"
   ]
  },
  {
   "cell_type": "markdown",
   "metadata": {},
   "source": [
    "Here, MiAlias is defined as an alias for UInt16. Because it’s an alias, the call to MiAlias.min actually calls UInt16.min, which provides an initial value of 0 for the maxAmplitudeFound variable."
   ]
  },
  {
   "cell_type": "markdown",
   "metadata": {},
   "source": [
    "# Booleans"
   ]
  },
  {
   "cell_type": "markdown",
   "metadata": {},
   "source": [
    "Swift has a basic Boolean type, called Bool. Boolean values are referred to as logical, because they can only ever be true or false. \n",
    "\n",
    "       Swift provides two Boolean constant values, true and false:"
   ]
  },
  {
   "cell_type": "code",
   "execution_count": 4,
   "metadata": {},
   "outputs": [
    {
     "data": {
      "text/plain": [
       "error: repl.swift:5:1: error: variables currently must have an initial value when entered at the top level of the REPL\r\n",
       "let orangesAreOrange : Bool?\r\n",
       "^"
      ]
     },
     "execution_count": 4,
     "metadata": {},
     "output_type": "execute_result"
    }
   ],
   "source": [
    "let orangesAreOrange : Bool?\n"
   ]
  },
  {
   "cell_type": "markdown",
   "metadata": {},
   "source": [
    "Boolean values are particularly useful when you work with conditional statements such as the if statement:"
   ]
  },
  {
   "cell_type": "code",
   "execution_count": 5,
   "metadata": {},
   "outputs": [
    {
     "data": {
      "text/plain": [
       "Mmm, tasty!"
      ]
     },
     "execution_count": 5,
     "metadata": {},
     "output_type": "execute_result"
    }
   ],
   "source": [
    "if bananasAreDelicious {\n",
    "    print(\"Mmm, tasty!\")\n",
    "} else {\n",
    "    print(\"Eww, turnips are horrible.\")\n",
    "}\n",
    "// Prints \"Eww, turnips are horrible.\""
   ]
  },
  {
   "cell_type": "markdown",
   "metadata": {},
   "source": [
    "Swift’s type safety prevents non-Boolean values from being substituted for Bool. The following example reports a compile-time error:"
   ]
  },
  {
   "cell_type": "code",
   "execution_count": 6,
   "metadata": {},
   "outputs": [
    {
     "data": {
      "text/plain": [
       "i: Int = 1\r\n",
       "error: repl.swift:13:4: error: 'Int' is not convertible to 'Bool'\r\n",
       "if i {\r\n",
       "   ^"
      ]
     },
     "execution_count": 6,
     "metadata": {},
     "output_type": "execute_result"
    }
   ],
   "source": [
    "let i = 1\n",
    "if i {\n",
    "    // this example will not compile, and will report an error\n",
    "}"
   ]
  },
  {
   "cell_type": "markdown",
   "metadata": {},
   "source": [
    "However, the alternative example below is valid:\n",
    "\n"
   ]
  },
  {
   "cell_type": "code",
   "execution_count": 7,
   "metadata": {},
   "outputs": [
    {
     "data": {
      "text/plain": [
       "i: Int = 1"
      ]
     },
     "execution_count": 7,
     "metadata": {},
     "output_type": "execute_result"
    }
   ],
   "source": [
    "let i = 1\n",
    "if i == 1 {\n",
    "    // this example will compile successfully\n",
    "}"
   ]
  },
  {
   "cell_type": "markdown",
   "metadata": {},
   "source": [
    "# Tuples"
   ]
  },
  {
   "cell_type": "markdown",
   "metadata": {},
   "source": [
    "Tuples group multiple values into a single compound value. The values within a tuple can be of any type and don’t have to be of the same type as each other."
   ]
  },
  {
   "cell_type": "markdown",
   "metadata": {},
   "source": [
    "In this example, (404, \"Not Found\") is a tuple that describes an HTTP status code. An HTTP status code is a special value returned by a web server whenever you request a web page. A status code of 404 Not Found is returned if you request a webpage that doesn’t exist."
   ]
  },
  {
   "cell_type": "code",
   "execution_count": 2,
   "metadata": {},
   "outputs": [
    {
     "data": {
      "text/plain": [
       "http404Error: (Int, String) = {\r\n",
       "  0 = 404\r\n",
       "  1 = \"Not Found\"\r\n",
       "}"
      ]
     },
     "execution_count": 2,
     "metadata": {},
     "output_type": "execute_result"
    }
   ],
   "source": [
    "let http404Error = (404, \"Not Found\")\n"
   ]
  },
  {
   "cell_type": "markdown",
   "metadata": {},
   "source": [
    "    The (404, \"Not Found\") tuple groups together an Int and a String to give the HTTP status code two separate values: a number and a human-readable description. It can be described as “a tuple of type (Int, String)”."
   ]
  },
  {
   "cell_type": "markdown",
   "metadata": {},
   "source": [
    "You can decompose a tuple’s contents into separate constants or variables, which you then access as usual:"
   ]
  },
  {
   "cell_type": "code",
   "execution_count": 3,
   "metadata": {},
   "outputs": [
    {
     "data": {
      "text/plain": [
       "statusCode: Int = 404\r\n",
       "statusMessage: String = \"Not Found\"\r\n",
       "The status code is 404\r",
       "The status message is Not Found"
      ]
     },
     "execution_count": 3,
     "metadata": {},
     "output_type": "execute_result"
    }
   ],
   "source": [
    "let (statusCode, statusMessage) = http404Error\n",
    "print(\"The status code is \\(statusCode)\")\n",
    "// Prints \"The status code is 404\"\n",
    "print(\"The status message is \\(statusMessage)\")\n",
    "// Prints \"The status message is Not Found\""
   ]
  },
  {
   "cell_type": "markdown",
   "metadata": {},
   "source": [
    "If you only need some of the tuple’s values, ignore parts of the tuple with an underscore (_) when you decompose the tuple:"
   ]
  },
  {
   "cell_type": "markdown",
   "metadata": {},
   "source": [
    "let (justTheStatusCode, _) = http404Error\n",
    "print(\"The status code is \\(justTheStatusCode)\")\n",
    "// Prints \"The status code is 404\""
   ]
  },
  {
   "cell_type": "markdown",
   "metadata": {},
   "source": [
    "Alternatively, access the individual element values in a tuple using index numbers starting at zero:"
   ]
  },
  {
   "cell_type": "code",
   "execution_count": 11,
   "metadata": {},
   "outputs": [
    {
     "data": {
      "text/plain": [
       "The status code is 404"
      ]
     },
     "execution_count": 11,
     "metadata": {},
     "output_type": "execute_result"
    }
   ],
   "source": [
    "print(\"The status code is \\(http404Error.0)\")\n",
    "// Prints \"The status code is 404\"\n"
   ]
  },
  {
   "cell_type": "code",
   "execution_count": 8,
   "metadata": {},
   "outputs": [
    {
     "data": {
      "text/plain": [
       "error: repl.swift:17:32: error: use of unresolved identifier 'http404Error'\r\n",
       "print(\"The status message is \\(http404Error.1)\")\r\n",
       "                               ^~~~~~~~~~~~"
      ]
     },
     "execution_count": 8,
     "metadata": {},
     "output_type": "execute_result"
    }
   ],
   "source": [
    "print(\"The status message is \\(http404Error.1)\")\n",
    "// Prints \"The status message is Not Found\""
   ]
  },
  {
   "cell_type": "markdown",
   "metadata": {},
   "source": [
    "You can name the individual elements in a tuple when the tuple is defined:"
   ]
  },
  {
   "cell_type": "code",
   "execution_count": 12,
   "metadata": {},
   "outputs": [
    {
     "data": {
      "text/plain": [
       "http200Status: (statusCode: Int, description: String) = {\r\n",
       "  statusCode = 200\r\n",
       "  description = unable to read data\r\n",
       "}"
      ]
     },
     "execution_count": 12,
     "metadata": {},
     "output_type": "execute_result"
    }
   ],
   "source": [
    "let http200Status = (statusCode: 200, description: \"OK\")"
   ]
  },
  {
   "cell_type": "markdown",
   "metadata": {},
   "source": [
    "If you name the elements in a tuple, you can use the element names to access the values of those elements:"
   ]
  },
  {
   "cell_type": "code",
   "execution_count": 15,
   "metadata": {},
   "outputs": [
    {
     "data": {
      "text/plain": [
       "The status code is 200"
      ]
     },
     "execution_count": 15,
     "metadata": {},
     "output_type": "execute_result"
    }
   ],
   "source": [
    "print(\"The status code is \\(http200Status.statusCode)\")\n",
    "// Prints \"The status code is 200\"\n"
   ]
  },
  {
   "cell_type": "code",
   "execution_count": 14,
   "metadata": {},
   "outputs": [
    {
     "data": {
      "text/plain": [
       "The status message is OK"
      ]
     },
     "execution_count": 14,
     "metadata": {},
     "output_type": "execute_result"
    }
   ],
   "source": [
    "print(\"The status message is \\(http200Status.description)\")\n",
    "// Prints \"The status message is OK\""
   ]
  },
  {
   "cell_type": "code",
   "execution_count": null,
   "metadata": {},
   "outputs": [],
   "source": []
  }
 ],
 "metadata": {
  "kernelspec": {
   "display_name": "Swift",
   "language": "swift",
   "name": "iswiftkernel"
  },
  "language_info": {
   "file_extension": ".swift",
   "mimetype": "text/swift",
   "name": "swift",
   "version": "2.1"
  }
 },
 "nbformat": 4,
 "nbformat_minor": 4
}
