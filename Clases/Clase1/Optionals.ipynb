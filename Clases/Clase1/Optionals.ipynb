{
 "cells": [
  {
   "cell_type": "markdown",
   "metadata": {},
   "source": [
    "\n",
    "# Optionals\n"
   ]
  },
  {
   "cell_type": "markdown",
   "metadata": {},
   "source": [
    "You use optionals in situations where a value may be absent. \n",
    "An optional represents two possibilities: Either there is a value, and you can **unwrap** the optional to access that value, or there isn’t a value at all.\n",
    "\n"
   ]
  },
  {
   "cell_type": "markdown",
   "metadata": {},
   "source": [
    "The example below uses the initializer to try to convert a String into an Int:\n",
    "\n"
   ]
  },
  {
   "cell_type": "code",
   "execution_count": 5,
   "metadata": {},
   "outputs": [
    {
     "data": {
      "text/plain": [
       "possibleNumber: String = \"Hola pepeito\""
      ]
     },
     "execution_count": 5,
     "metadata": {},
     "output_type": "execute_result"
    }
   ],
   "source": [
    "var possibleNumber = \"Hola pepeito\""
   ]
  },
  {
   "cell_type": "code",
   "execution_count": 7,
   "metadata": {},
   "outputs": [
    {
     "data": {
      "text/plain": [
       "xxx: Double? = nil"
      ]
     },
     "execution_count": 7,
     "metadata": {},
     "output_type": "execute_result"
    }
   ],
   "source": [
    "let xxx = Double(possibleNumber)\n",
    "\n",
    "// convertedNumber is inferred to be of type \"Int?\", or \"optional Int\""
   ]
  },
  {
   "cell_type": "code",
   "execution_count": 4,
   "metadata": {},
   "outputs": [
    {
     "data": {
      "text/plain": [
       "Optional(123)"
      ]
     },
     "execution_count": 4,
     "metadata": {},
     "output_type": "execute_result"
    }
   ],
   "source": [
    "print(xxx)"
   ]
  },
  {
   "cell_type": "markdown",
   "metadata": {},
   "source": [
    "Because the initializer might fail, it returns an **optional Int**, rather than an Int. \n",
    "\n",
    "An optional Int is written as Int?, not Int. \n",
    "\n",
    "The question mark indicates that the value it contains is optional, meaning that it might contain some Int value, or it might contain no value at all. \n",
    "\n",
    "(It can’t contain anything else, such as a Bool value or a String value. It’s either an Int, or it’s nothing at all.)"
   ]
  },
  {
   "cell_type": "markdown",
   "metadata": {},
   "source": [
    "# nil"
   ]
  },
  {
   "cell_type": "markdown",
   "metadata": {},
   "source": [
    "You set an optional variable to a valueless state by assigning it the special value nil:\n",
    "\n"
   ]
  },
  {
   "cell_type": "code",
   "execution_count": 8,
   "metadata": {},
   "outputs": [
    {
     "data": {
      "text/plain": [
       "serverResponseCode: Int? = 404"
      ]
     },
     "execution_count": 8,
     "metadata": {},
     "output_type": "execute_result"
    }
   ],
   "source": [
    "var serverResponseCode: Int? = 404\n",
    "// serverResponseCode contains an actual Int value of 404"
   ]
  },
  {
   "cell_type": "code",
   "execution_count": 9,
   "metadata": {},
   "outputs": [
    {
     "data": {
      "text/plain": []
     },
     "execution_count": 9,
     "metadata": {},
     "output_type": "execute_result"
    }
   ],
   "source": [
    "serverResponseCode = nil\n",
    "// serverResponseCode now contains no value"
   ]
  },
  {
   "cell_type": "code",
   "execution_count": 11,
   "metadata": {},
   "outputs": [
    {
     "data": {
      "text/plain": [
       "nil"
      ]
     },
     "execution_count": 11,
     "metadata": {},
     "output_type": "execute_result"
    }
   ],
   "source": [
    "print(serverResponseCode)"
   ]
  },
  {
   "cell_type": "markdown",
   "metadata": {},
   "source": [
    "Note: \n",
    "\n",
    "You can’t use nil with non-optional constants and variables. \n",
    "If a constant or variable in your code needs to work with the absence of a value under certain conditions, always declare it as an optional value of the appropriate type."
   ]
  },
  {
   "cell_type": "code",
   "execution_count": 12,
   "metadata": {},
   "outputs": [
    {
     "data": {
      "text/plain": [
       "serverResponseCode2: Int = 404"
      ]
     },
     "execution_count": 12,
     "metadata": {},
     "output_type": "execute_result"
    }
   ],
   "source": [
    "var serverResponseCode2: Int = 404"
   ]
  },
  {
   "cell_type": "code",
   "execution_count": 13,
   "metadata": {},
   "outputs": [
    {
     "data": {
      "text/plain": [
       "error: repl.swift:20:23: error: nil cannot be assigned to type 'Int'\r\n",
       "serverResponseCode2 = nil\r\n",
       "                      ^"
      ]
     },
     "execution_count": 13,
     "metadata": {},
     "output_type": "execute_result"
    }
   ],
   "source": [
    "serverResponseCode2 = nil"
   ]
  },
  {
   "cell_type": "markdown",
   "metadata": {},
   "source": [
    "If you define an optional variable without providing a default value, the variable is automatically set to nil for you:\n",
    "\n"
   ]
  },
  {
   "cell_type": "code",
   "execution_count": 14,
   "metadata": {},
   "outputs": [
    {
     "data": {
      "text/plain": [
       "surveyAnswer: String? = nil"
      ]
     },
     "execution_count": 14,
     "metadata": {},
     "output_type": "execute_result"
    }
   ],
   "source": [
    "var surveyAnswer: String?\n",
    "// surveyAnswer is automatically set to nil"
   ]
  },
  {
   "cell_type": "markdown",
   "metadata": {},
   "source": [
    "# If Statements and Forced Unwrapping\n"
   ]
  },
  {
   "cell_type": "markdown",
   "metadata": {},
   "source": [
    "You can use an if statement to find out whether an optional contains a value by comparing the optional against nil. You perform this comparison with the “equal to” operator (==) or the “not equal to” operator (!=)."
   ]
  },
  {
   "cell_type": "markdown",
   "metadata": {},
   "source": [
    "If an optional has a value, it’s considered to be “not equal to” nil:\n",
    "\n"
   ]
  },
  {
   "cell_type": "code",
   "execution_count": 16,
   "metadata": {},
   "outputs": [
    {
     "data": {
      "text/plain": [
       "convertedNumber: Int = 1\r\n",
       "convertedNumber contains some integer value."
      ]
     },
     "execution_count": 16,
     "metadata": {},
     "output_type": "execute_result"
    }
   ],
   "source": [
    "var convertedNumber = 1\n",
    "if convertedNumber != nil {\n",
    "    print(\"convertedNumber contains some integer value.\")\n",
    "}\n",
    "// Prints \"convertedNumber contains some integer value.\""
   ]
  },
  {
   "cell_type": "markdown",
   "metadata": {},
   "source": [
    "\n",
    "Once you’re sure that the optional does contain a value, you can access its underlying value by adding an **exclamation point (!) to the end of the optional’s name**. The exclamation point effectively says, “I know that this optional definitely has a value; please use it.” This is known as forced unwrapping of the optional’s value:\n"
   ]
  },
  {
   "cell_type": "code",
   "execution_count": 18,
   "metadata": {},
   "outputs": [
    {
     "data": {
      "text/plain": [
       "warning: repl.swift:29:20: warning: comparing non-optional value of type 'Int' to nil always returns true\r\n",
       "if convertedNumber != nil {\r\n",
       "   ~~~~~~~~~~~~~~~ ^  ~~~\r\n",
       "\r\n",
       "error: repl.swift:30:65: error: cannot force unwrap value of non-optional type 'Int'\r\n",
       "print(\"convertedNumber has an integer value of \\(convertedNumber!).\")\r\n",
       "                                                 ~~~~~~~~~~~~~~~^"
      ]
     },
     "execution_count": 18,
     "metadata": {},
     "output_type": "execute_result"
    }
   ],
   "source": [
    "if convertedNumber != nil {\n",
    "    print(\"convertedNumber has an integer value of \\(convertedNumber!).\")\n",
    "}\n",
    "// Prints \"convertedNumber has an integer value of 123.\""
   ]
  },
  {
   "cell_type": "markdown",
   "metadata": {},
   "source": [
    "# Optional Binding"
   ]
  },
  {
   "cell_type": "raw",
   "metadata": {},
   "source": [
    "if let constantName = someOptional {\n",
    "    statements\n",
    "}"
   ]
  },
  {
   "cell_type": "code",
   "execution_count": null,
   "metadata": {},
   "outputs": [],
   "source": [
    "if let actualNumber = Int(possibleNumber) {\n",
    "    print(\"The string \\\"\\(possibleNumber)\\\" could not be converted to an integer\")\n",
    "} else {\n",
    "    print(\"The string \\\"\\(possibleNumber)\\\" has an integer value of \\(actualNumber)\")\n",
    "}"
   ]
  },
  {
   "cell_type": "markdown",
   "metadata": {},
   "source": [
    "Now, let's set possibleNumber empty"
   ]
  },
  {
   "cell_type": "code",
   "execution_count": null,
   "metadata": {},
   "outputs": [],
   "source": [
    "possibleNumber = \"\""
   ]
  },
  {
   "cell_type": "markdown",
   "metadata": {},
   "source": [
    "Try again, and see"
   ]
  },
  {
   "cell_type": "code",
   "execution_count": null,
   "metadata": {},
   "outputs": [],
   "source": [
    "if let actualNumber = Int(possibleNumber) {\n",
    "    print(\"The string \\\"\\(possibleNumber)\\\" has an integer value of \\(actualNumber)\")\n",
    "} else {\n",
    " }"
   ]
  },
  {
   "cell_type": "markdown",
   "metadata": {},
   "source": [
    "You can include as many optional bindings and Boolean conditions in a single if statement as you need to, separated by commas. If any of the values in the optional bindings are nil or any Boolean condition evaluates to false, the whole if statement’s condition is considered to be false. The following if statements are equivalent:"
   ]
  },
  {
   "cell_type": "code",
   "execution_count": 15,
   "metadata": {},
   "outputs": [
    {
     "data": {
      "text/plain": [
       "4 < 42 < 100"
      ]
     },
     "execution_count": 15,
     "metadata": {},
     "output_type": "execute_result"
    }
   ],
   "source": [
    "if let firstNumber = Int(\"4\"), let secondNumber = Int(\"42\"), firstNumber < secondNumber && secondNumber < 100 {\n",
    "    print(\"\\(firstNumber) < \\(secondNumber) < 100\")\n",
    "}\n",
    "// Prints \"4 < 42 < 100\""
   ]
  },
  {
   "cell_type": "code",
   "execution_count": 16,
   "metadata": {},
   "outputs": [
    {
     "data": {
      "text/plain": [
       "4 < 42 < 100"
      ]
     },
     "execution_count": 16,
     "metadata": {},
     "output_type": "execute_result"
    }
   ],
   "source": [
    "if let firstNumber = Int(\"4\") {\n",
    "    if let secondNumber = Int(\"42\") {\n",
    "        if firstNumber < secondNumber && secondNumber < 100 {\n",
    "            print(\"\\(firstNumber) < \\(secondNumber) < 100\")\n",
    "        }\n",
    "    }\n",
    "}\n",
    "// Prints \"4 < 42 < 100\""
   ]
  },
  {
   "cell_type": "code",
   "execution_count": null,
   "metadata": {},
   "outputs": [],
   "source": []
  }
 ],
 "metadata": {
  "kernelspec": {
   "display_name": "Swift",
   "language": "swift",
   "name": "iswiftkernel"
  },
  "language_info": {
   "file_extension": ".swift",
   "mimetype": "text/swift",
   "name": "swift",
   "version": "2.1"
  }
 },
 "nbformat": 4,
 "nbformat_minor": 4
}
