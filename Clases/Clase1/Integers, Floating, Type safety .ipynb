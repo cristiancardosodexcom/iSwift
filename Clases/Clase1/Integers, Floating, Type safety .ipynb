{
 "cells": [
  {
   "cell_type": "markdown",
   "metadata": {},
   "source": [
    "# Integers\n"
   ]
  },
  {
   "cell_type": "markdown",
   "metadata": {},
   "source": [
    "Integers are whole numbers with no fractional component, such as 42 and -23. Integers are either signed (positive, zero, or negative) or unsigned (positive or zero).\n",
    "\n",
    "Swift provides signed and unsigned integers in 8, 16, 32, and 64 bit forms. These integers follow a naming convention similar to C, in that an 8-bit unsigned integer is of type **UInt8**, and a 32-bit signed integer is of type **Int32**. Like all types in Swift, these integer types have capitalized names.\n",
    "\n"
   ]
  },
  {
   "cell_type": "code",
   "execution_count": 2,
   "metadata": {},
   "outputs": [
    {
     "data": {
      "text/plain": [
       "minValue: UInt8 = 0\r\n",
       "maxValue: UInt8 = 255"
      ]
     },
     "execution_count": 2,
     "metadata": {},
     "output_type": "execute_result"
    }
   ],
   "source": [
    "let minValue = UInt8.min  // minValue is equal to 0, and is of type UInt8\n",
    "let maxValue = UInt8.max  // maxValue is equal to 255, and is of type UInt8"
   ]
  },
  {
   "cell_type": "code",
   "execution_count": 10,
   "metadata": {},
   "outputs": [
    {
     "data": {
      "text/plain": [
       "minValue2: Int = 1"
      ]
     },
     "execution_count": 10,
     "metadata": {},
     "output_type": "execute_result"
    }
   ],
   "source": [
    "let minValue2 = 1\n",
    "\n"
   ]
  },
  {
   "cell_type": "code",
   "execution_count": null,
   "metadata": {},
   "outputs": [],
   "source": [
    "let myValue : Int = 0"
   ]
  },
  {
   "cell_type": "markdown",
   "metadata": {},
   "source": [
    "# Floating-Point Numbers"
   ]
  },
  {
   "cell_type": "markdown",
   "metadata": {},
   "source": [
    "Floating-point types can represent a much wider range of values than integer types, and can store numbers that are much larger or smaller than can be stored in an Int.\n",
    "\n",
    "Swift provides two signed floating-point number types:"
   ]
  },
  {
   "cell_type": "markdown",
   "metadata": {},
   "source": [
    "    Double represents a 64-bit floating-point number.\n",
    "\n",
    "    Float represents a 32-bit floating-point number."
   ]
  },
  {
   "cell_type": "markdown",
   "metadata": {},
   "source": [
    "Double has a precision of at **least 16 decimal digits**, whereas the precision of Float can be as **little as 7 decimal digits**. The appropriate floating-point type to use depends on the nature and range of values you need to work with in your code. In situations where either type would be appropriate, Double is preferred."
   ]
  },
  {
   "cell_type": "code",
   "execution_count": 15,
   "metadata": {},
   "outputs": [
    {
     "data": {
      "text/plain": [
       "myFloat: Double = 3.1400000000000001"
      ]
     },
     "execution_count": 15,
     "metadata": {},
     "output_type": "execute_result"
    }
   ],
   "source": [
    "let myFloat = 3.14"
   ]
  },
  {
   "cell_type": "code",
   "execution_count": 12,
   "metadata": {},
   "outputs": [
    {
     "data": {
      "text/plain": [
       "myDouble: Double = 3.1416243567897655"
      ]
     },
     "execution_count": 12,
     "metadata": {},
     "output_type": "execute_result"
    }
   ],
   "source": [
    "let myDouble : Double = 3.141624356789765435678654356754356743"
   ]
  },
  {
   "cell_type": "markdown",
   "metadata": {},
   "source": [
    "# Type Safety and Type Inference"
   ]
  },
  {
   "cell_type": "markdown",
   "metadata": {},
   "source": [
    "Swift is a type-safe language. A type safe language encourages you to be clear about the types of values your code can work with. If part of your code requires a String, you can’t pass it an Int by mistake.\n",
    "\n",
    "Because Swift is type safe, it performs type checks when compiling your code and flags any mismatched types as errors. This enables you to catch and fix errors as early as possible in the development process.\n",
    "\n",
    "Type-checking helps you avoid errors when you’re working with different types of values. However, this doesn’t mean that you have to specify the type of every constant and variable that you declare. If you don’t specify the type of value you need, Swift uses type inference to work out the appropriate type. **Type inference enables a compiler to deduce the type of a particular expression automatically when it compiles your code, simply by examining the values you provide.**\n",
    "\n",
    "Because of type inference, Swift requires far fewer type declarations than languages such as C or Objective-C. Constants and variables are still explicitly typed, but much of the work of specifying their type is done for you.\n",
    "\n",
    "Type inference is particularly useful when you declare a constant or variable with an initial value. This is often done by assigning a literal value (or literal) to the constant or variable at the point that you declare it. (A literal value is a value that appears directly in your source code, such as 42 and 3.14159 in the examples below.)"
   ]
  },
  {
   "cell_type": "code",
   "execution_count": 16,
   "metadata": {},
   "outputs": [
    {
     "data": {
      "text/plain": [
       "meaningOfLife: Int = 42"
      ]
     },
     "execution_count": 16,
     "metadata": {},
     "output_type": "execute_result"
    }
   ],
   "source": [
    "let meaningOfLife = 42\n",
    "// meaningOfLife is inferred to be of type Int"
   ]
  },
  {
   "cell_type": "code",
   "execution_count": 17,
   "metadata": {},
   "outputs": [
    {
     "data": {
      "text/plain": [
       "pi: Double = 3.1415899999999999"
      ]
     },
     "execution_count": 17,
     "metadata": {},
     "output_type": "execute_result"
    }
   ],
   "source": [
    "let pi = 3.14159\n",
    "// pi is inferred to be of type Double"
   ]
  },
  {
   "cell_type": "code",
   "execution_count": 20,
   "metadata": {},
   "outputs": [
    {
     "data": {
      "text/plain": [
       "anotherPi: Double = 6.2831799999999998"
      ]
     },
     "execution_count": 20,
     "metadata": {},
     "output_type": "execute_result"
    }
   ],
   "source": [
    "let anotherPi = 3.1415899999999999 + 3.1415899999999999324234324234234324"
   ]
  },
  {
   "cell_type": "markdown",
   "metadata": {},
   "source": [
    "The literal value of 3 has no explicit type in and of itself, and so an appropriate output type of Double is inferred from the presence of a floating-point literal as part of the addition."
   ]
  },
  {
   "cell_type": "markdown",
   "metadata": {},
   "source": [
    "# Numeric Literals\n",
    "\n"
   ]
  },
  {
   "cell_type": "markdown",
   "metadata": {},
   "source": [
    "Integer literals can be written as:\n",
    "\n",
    "    A decimal number, with no prefix\n",
    "    A binary number, with a 0b prefix\n",
    "    An octal number, with a 0o prefix\n",
    "    A hexadecimal number, with a 0x prefix\n"
   ]
  },
  {
   "cell_type": "markdown",
   "metadata": {},
   "source": [
    "All of these integer literals have a decimal value of 17:"
   ]
  },
  {
   "cell_type": "code",
   "execution_count": null,
   "metadata": {},
   "outputs": [],
   "source": [
    "let decimalInteger = 17\n",
    "let binaryInteger = 0b10001       // 17 in binary notation\n",
    "let octalInteger = 0o21           // 17 in octal notation\n",
    "let hexadecimalInteger = 0x11  // 17 in hexadecimal notation"
   ]
  },
  {
   "cell_type": "markdown",
   "metadata": {},
   "source": [
    "For decimal numbers with an exponent of exp, the base number is multiplied by 10exp:\n",
    "\n",
    "    1.25e2 means 1.25 x 102, or 125.0.\n",
    "    1.25e-2 means 1.25 x 10-2, or 0.0125."
   ]
  },
  {
   "cell_type": "markdown",
   "metadata": {},
   "source": [
    "For hexadecimal numbers with an exponent of exp, the base number is multiplied by 2exp:\n",
    "\n",
    "    0xFp2 means 15 x 22, or 60.0.\n",
    "    0xFp-2 means 15 x 2-2, or 3.75."
   ]
  },
  {
   "cell_type": "code",
   "execution_count": 21,
   "metadata": {},
   "outputs": [
    {
     "data": {
      "text/plain": [
       "hexadec: Double = 60"
      ]
     },
     "execution_count": 21,
     "metadata": {},
     "output_type": "execute_result"
    }
   ],
   "source": [
    "let hexadec = 0xFp2"
   ]
  },
  {
   "cell_type": "code",
   "execution_count": 22,
   "metadata": {},
   "outputs": [
    {
     "data": {
      "text/plain": [
       "hexadec2: Double = 3.75"
      ]
     },
     "execution_count": 22,
     "metadata": {},
     "output_type": "execute_result"
    }
   ],
   "source": [
    "let hexadec2 = 0xFp-2"
   ]
  },
  {
   "cell_type": "code",
   "execution_count": 25,
   "metadata": {},
   "outputs": [
    {
     "data": {
      "text/plain": [
       "ocdec: Int = 5203"
      ]
     },
     "execution_count": 25,
     "metadata": {},
     "output_type": "execute_result"
    }
   ],
   "source": [
    "let ocdec = 0o12123"
   ]
  },
  {
   "cell_type": "markdown",
   "metadata": {},
   "source": [
    "Numeric literals can contain extra formatting to make them easier to read. Both integers and floats can be padded with extra zeros and **can contain underscores to help with readability**. Neither type of formatting affects the underlying value of the literal:"
   ]
  },
  {
   "cell_type": "code",
   "execution_count": 28,
   "metadata": {},
   "outputs": [
    {
     "data": {
      "text/plain": [
       "paddedDouble: Double = 123.456\r\n",
       "oneMillion: Int = 1000000\r\n",
       "justOverOneMillion: Double = 1000000.0000001"
      ]
     },
     "execution_count": 28,
     "metadata": {},
     "output_type": "execute_result"
    }
   ],
   "source": [
    "let paddedDouble = 123.456\n",
    "let oneMillion = 1_000_000\n",
    "let justOverOneMillion = 1_000_000.000_000_1"
   ]
  },
  {
   "cell_type": "markdown",
   "metadata": {},
   "source": [
    "# Integer and Floating-Point Conversion\n",
    "\n"
   ]
  },
  {
   "cell_type": "markdown",
   "metadata": {},
   "source": [
    "Conversions between integer and floating-point numeric types must be made explicit:\n",
    "\n"
   ]
  },
  {
   "cell_type": "code",
   "execution_count": 32,
   "metadata": {},
   "outputs": [
    {
     "data": {
      "text/plain": [
       "three: Int = 3\r\n",
       "pointOneFourOneFiveNine: Double = 0.14158999999999999\r\n",
       "error: repl.swift:62:16: error: binary operator '+' cannot be applied to operands of type 'Int' and 'Double'\r\n",
       "let pi = three + pointOneFourOneFiveNine\r\n",
       "         ~~~~~ ^ ~~~~~~~~~~~~~~~~~~~~~~~\r\n",
       "\r\n",
       "repl.swift:62:16: note: overloads for '+' exist with these partially matching parameter lists: (Int, Int), (Double, Double), (Int, UnsafeMutablePointer<Pointee>), (Int, UnsafePointer<Pointee>)\r\n",
       "let pi = three + pointOneFourOneFiveNine\r\n",
       "               ^"
      ]
     },
     "execution_count": 32,
     "metadata": {},
     "output_type": "execute_result"
    }
   ],
   "source": [
    "let three = 3\n",
    "let pointOneFourOneFiveNine = 0.14159\n",
    "let pi = three + pointOneFourOneFiveNine\n",
    "// Error cannot be applied to operands of type 'Int' and 'Double'"
   ]
  },
  {
   "cell_type": "code",
   "execution_count": 36,
   "metadata": {},
   "outputs": [
    {
     "data": {
      "text/plain": [
       "three: Int = 3\r\n",
       "pointOneFourOneFiveNine: Double = 0.14158999999999999\r\n",
       "pi: Double = 3.1415899999999999"
      ]
     },
     "execution_count": 36,
     "metadata": {},
     "output_type": "execute_result"
    }
   ],
   "source": [
    "let three = 3\n",
    "let pointOneFourOneFiveNine = 0.14159\n",
    "let pi = Double(three) + pointOneFourOneFiveNine\n",
    "// pi equals 3.14159, and is inferred to be of type Double"
   ]
  },
  {
   "cell_type": "markdown",
   "metadata": {},
   "source": [
    "Floating-point to integer conversion must also be made explicit. \n",
    "\n",
    "An integer type can be initialized with a Double or Float value:"
   ]
  },
  {
   "cell_type": "code",
   "execution_count": 35,
   "metadata": {},
   "outputs": [
    {
     "data": {
      "text/plain": [
       "integerPi: Int = 3"
      ]
     },
     "execution_count": 35,
     "metadata": {},
     "output_type": "execute_result"
    }
   ],
   "source": [
    "let integerPi = Int(pi)\n",
    "// integerPi equals 3, and is inferred to be of type Int"
   ]
  },
  {
   "cell_type": "markdown",
   "metadata": {},
   "source": [
    "**Floating-point values are always truncated when used to initialize a new integer value in this way. This means that 4.75 becomes 4, and -3.9 becomes -3.**"
   ]
  }
 ],
 "metadata": {
  "kernelspec": {
   "display_name": "Swift",
   "language": "swift",
   "name": "iswiftkernel"
  },
  "language_info": {
   "file_extension": ".swift",
   "mimetype": "text/swift",
   "name": "swift",
   "version": "2.1"
  }
 },
 "nbformat": 4,
 "nbformat_minor": 4
}
