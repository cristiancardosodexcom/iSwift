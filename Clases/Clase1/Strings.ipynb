{
 "cells": [
  {
   "cell_type": "markdown",
   "metadata": {},
   "source": [
    "# Strings and Characters"
   ]
  },
  {
   "cell_type": "markdown",
   "metadata": {},
   "source": [
    "A string is a series of characters, such as \"hello, world\" or \"albatross\". Swift strings are represented by the String type. The contents of a String can be accessed in various ways, including as a collection of Character values."
   ]
  },
  {
   "cell_type": "markdown",
   "metadata": {},
   "source": [
    "Despite this simplicity of syntax, Swift’s String type is a fast, modern string implementation. Every string is composed of encoding-independent Unicode characters, and provides support for accessing those characters in various Unicode representations."
   ]
  },
  {
   "cell_type": "markdown",
   "metadata": {},
   "source": [
    "Swift’s String type is bridged with Foundation’s **NSString** class. Foundation also extends String to expose methods defined by NSString. This means, if you import Foundation, you can access those NSString methods on String without casting.\n",
    "\n",
    "For more information about using String with Foundation and Cocoa, see Bridging Between String and NSString."
   ]
  },
  {
   "cell_type": "markdown",
   "metadata": {},
   "source": [
    "# String Literals\n",
    "\n"
   ]
  },
  {
   "cell_type": "markdown",
   "metadata": {},
   "source": [
    "You can include predefined String values within your code as string literals. A string literal is a sequence of characters surrounded by double quotation marks (\").\n",
    "\n"
   ]
  },
  {
   "cell_type": "markdown",
   "metadata": {},
   "source": [
    "Use a string literal as an initial value for a constant or variable:"
   ]
  },
  {
   "cell_type": "code",
   "execution_count": null,
   "metadata": {},
   "outputs": [],
   "source": [
    "let someString = \"Some string literal value\""
   ]
  },
  {
   "cell_type": "markdown",
   "metadata": {},
   "source": [
    "# Multiline String Literals\n"
   ]
  },
  {
   "cell_type": "markdown",
   "metadata": {},
   "source": [
    "If you need a string that spans several lines, use a multiline string literal—a sequence of characters surrounded by three double quotation marks:\n",
    "\n"
   ]
  },
  {
   "cell_type": "code",
   "execution_count": null,
   "metadata": {},
   "outputs": [],
   "source": [
    "let quotation = \"\"\"\n",
    "The White Rabbit put on his spectacles.  \"Where shall I begin,\n",
    "please your Majesty?\" he asked.\n",
    "\n",
    "\"Begin at the beginning,\" the King said gravely, \"and go on\n",
    "till you come to the end; then stop.\"\n",
    "\"\"\""
   ]
  },
  {
   "cell_type": "markdown",
   "metadata": {},
   "source": [
    "# Special Characters in String Literals"
   ]
  },
  {
   "cell_type": "markdown",
   "metadata": {},
   "source": [
    "String literals can include the following special characters:\n",
    "\n",
    "- The escaped special characters \\0 (null character), \\\\ (backslash), \\t (horizontal tab), \\n (line feed), \\r (carriage return), \\\" (double quotation mark) and \\' (single quotation mark)\n",
    "\n",
    "- An arbitrary Unicode scalar value, written as \\u{n}, where n is a 1–8 digit hexadecimal number (Unicode is discussed in Unicode below)"
   ]
  },
  {
   "cell_type": "code",
   "execution_count": null,
   "metadata": {},
   "outputs": [],
   "source": [
    "let wiseWords = \"\\\"Imagination is more important than knowledge\\\" - Einstein\"\n",
    "// \"Imagination is more important than knowledge\" - Einstein\n",
    "let dollarSign = \"\\u{24}\"        // $,  Unicode scalar U+0024\n",
    "let blackHeart = \"\\u{2665}\"      // ♥,  Unicode scalar U+2665\n",
    "let sparklingHeart = \"\\u{1F496}\" // 💖, Unicode scalar U+1F496"
   ]
  },
  {
   "cell_type": "code",
   "execution_count": null,
   "metadata": {},
   "outputs": [],
   "source": [
    "let threeDoubleQuotationMarks = \"\"\"\n",
    "Escaping the first quotation mark \\\"\"\"\n",
    "Escaping all three quotation marks \\\"\\\"\\\"\n",
    "\"\"\""
   ]
  },
  {
   "cell_type": "markdown",
   "metadata": {},
   "source": [
    "# Initializing an Empty String\n",
    "\n"
   ]
  },
  {
   "cell_type": "markdown",
   "metadata": {},
   "source": [
    "To create an empty String value as the starting point for building a longer string, either assign an empty string literal to a variable, or initialize a new String instance with initializer syntax:"
   ]
  },
  {
   "cell_type": "code",
   "execution_count": 1,
   "metadata": {},
   "outputs": [
    {
     "data": {
      "text/plain": [
       "emptyString: String = \"\"\r\n",
       "anotherEmptyString: String = \"\""
      ]
     },
     "execution_count": 1,
     "metadata": {},
     "output_type": "execute_result"
    }
   ],
   "source": [
    "var emptyString = \"\"               // empty string literal\n",
    "var anotherEmptyString = String()  // initializer syntax\n",
    "// these two strings are both empty, and are equivalent to each other"
   ]
  },
  {
   "cell_type": "markdown",
   "metadata": {},
   "source": [
    "Find out whether a String value is empty by checking its Boolean isEmpty property:\n",
    "\n"
   ]
  },
  {
   "cell_type": "code",
   "execution_count": null,
   "metadata": {},
   "outputs": [],
   "source": [
    "if emptyString.isEmpty {\n",
    "    print(\"Nothing to see here\")\n",
    "}\n",
    "// Prints \"Nothing to see here\""
   ]
  },
  {
   "cell_type": "markdown",
   "metadata": {},
   "source": [
    "# String Mutability\n",
    "\n"
   ]
  },
  {
   "cell_type": "markdown",
   "metadata": {},
   "source": [
    "You indicate whether a particular String can be modified (or mutated) by assigning it to a variable (in which case it can be modified), or to a constant (in which case it can’t be modified):"
   ]
  },
  {
   "cell_type": "code",
   "execution_count": 2,
   "metadata": {},
   "outputs": [
    {
     "data": {
      "text/plain": [
       "variableString: String = \"Horse\""
      ]
     },
     "execution_count": 2,
     "metadata": {},
     "output_type": "execute_result"
    }
   ],
   "source": [
    "var variableString = \"Horse\"\n",
    "variableString += \" and carriage\"\n",
    "// variableString is now \"Horse and carriage\""
   ]
  },
  {
   "cell_type": "code",
   "execution_count": 3,
   "metadata": {},
   "outputs": [
    {
     "data": {
      "text/plain": [
       "constantString: String = \"Highlander\"\r\n",
       "error: repl.swift:8:16: error: left side of mutating operator isn't mutable: 'constantString' is a 'let' constant\r\n",
       "constantString += \" and another Highlander\"\r\n",
       "~~~~~~~~~~~~~~ ^\r\n",
       "\r\n",
       "repl.swift:7:1: note: change 'let' to 'var' to make it mutable\r\n",
       "let constantString = \"Highlander\"\r\n",
       "^~~\r\n",
       "var"
      ]
     },
     "execution_count": 3,
     "metadata": {},
     "output_type": "execute_result"
    }
   ],
   "source": [
    "let constantString = \"Highlander\"\n",
    "constantString += \" and another Highlander\"\n",
    "// this reports a compile-time error - a constant string cannot be modified"
   ]
  },
  {
   "cell_type": "markdown",
   "metadata": {},
   "source": [
    "**NOTE**\n",
    "\n",
    "    This approach is different from string mutation in Objective-C and Cocoa, where you choose between two classes (NSString and NSMutableString) to indicate whether a string can be mutated."
   ]
  },
  {
   "cell_type": "markdown",
   "metadata": {},
   "source": [
    "# Working with Characters\n",
    "\n"
   ]
  },
  {
   "cell_type": "markdown",
   "metadata": {},
   "source": [
    "You can access the individual Character values for a String by iterating over the string with a for-in loop:"
   ]
  },
  {
   "cell_type": "code",
   "execution_count": 4,
   "metadata": {},
   "outputs": [
    {
     "data": {
      "text/plain": [
       "error: repl.swift:9:18: error: type 'String' does not conform to protocol 'Sequence'\r\n",
       "for character in \"Dog!\" {\r\n",
       "                 ^"
      ]
     },
     "execution_count": 4,
     "metadata": {},
     "output_type": "execute_result"
    }
   ],
   "source": [
    "for character in \"Dog!\" {\n",
    "    print(character)\n",
    "}"
   ]
  },
  {
   "cell_type": "markdown",
   "metadata": {},
   "source": [
    "You can also append a String value to an existing String variable with the addition assignment operator (+=):"
   ]
  },
  {
   "cell_type": "code",
   "execution_count": 6,
   "metadata": {},
   "outputs": [
    {
     "data": {
      "text/plain": [
       "string2: String = \"Hello\"\r\n",
       "instruction: String = \" Cristian\"\r\n",
       " CristianHello"
      ]
     },
     "execution_count": 6,
     "metadata": {},
     "output_type": "execute_result"
    }
   ],
   "source": [
    "var string2 = \"Hello\"\n",
    "var instruction = \" Cristian\"\n",
    "instruction += string2\n",
    "// instruction now equals \"look over there\"\n",
    "print(instruction)"
   ]
  },
  {
   "cell_type": "markdown",
   "metadata": {},
   "source": [
    "You can append a Character value to a String variable with the String type’s append() method:\n",
    "\n"
   ]
  },
  {
   "cell_type": "code",
   "execution_count": 8,
   "metadata": {},
   "outputs": [
    {
     "data": {
      "text/plain": [
       "exclamationMark: Character = {\r\n",
       "  _representation = small {\r\n",
       "    small = 9223372036854775585\r\n",
       "  }\r\n",
       "}\r\n",
       " CristianHello!!"
      ]
     },
     "execution_count": 8,
     "metadata": {},
     "output_type": "execute_result"
    }
   ],
   "source": [
    "let exclamationMark: Character = \"!\"\n",
    "instruction.append(exclamationMark)\n",
    "print(instruction)\n",
    "// welcome now equals \"CristianHello!\""
   ]
  },
  {
   "cell_type": "markdown",
   "metadata": {},
   "source": [
    "\n",
    "# String Interpolation\n",
    "\n"
   ]
  },
  {
   "cell_type": "markdown",
   "metadata": {},
   "source": [
    "String interpolation is a way to construct a new String value from a mix of constants, variables, literals, and expressions by including their values inside a string literal. You can use string interpolation in both single-line and multiline string literals. Each item that you insert into the string literal is wrapped in a pair of parentheses, prefixed by a backslash (\\):"
   ]
  },
  {
   "cell_type": "code",
   "execution_count": null,
   "metadata": {},
   "outputs": [],
   "source": [
    "let multiplier = 3\n"
   ]
  },
  {
   "cell_type": "code",
   "execution_count": null,
   "metadata": {},
   "outputs": [],
   "source": [
    "let message = \"\\(multiplier) times 2.5 is \\(Double(multiplier) * 2.5)\""
   ]
  },
  {
   "cell_type": "code",
   "execution_count": null,
   "metadata": {},
   "outputs": [],
   "source": [
    "let eAcute: Character = \"\\u{E9}\"                         // é\n",
    "let combinedEAcute: Character = \"\\u{65}\\u{301}\"          // e followed by ́\n",
    "print(eAcute)\n",
    "print(combinedEAcute)\n",
    "// eAcute is é, combinedEAcute is é"
   ]
  },
  {
   "cell_type": "code",
   "execution_count": null,
   "metadata": {},
   "outputs": [],
   "source": []
  }
 ],
 "metadata": {
  "kernelspec": {
   "display_name": "Swift",
   "language": "swift",
   "name": "iswiftkernel"
  },
  "language_info": {
   "file_extension": ".swift",
   "mimetype": "text/swift",
   "name": "swift",
   "version": "2.1"
  }
 },
 "nbformat": 4,
 "nbformat_minor": 4
}
