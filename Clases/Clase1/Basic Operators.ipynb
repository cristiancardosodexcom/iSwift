{
 "cells": [
  {
   "cell_type": "markdown",
   "metadata": {},
   "source": [
    "# Basic Operators\n",
    "\n"
   ]
  },
  {
   "cell_type": "markdown",
   "metadata": {},
   "source": [
    "Operators are \n",
    "\n",
    "- unary, \n",
    "- binary, \n",
    "- or ternary:\n",
    "\n",
    "**Unary prefix** operators appear immediately before their target (such as !b), and unary postfix operators appear immediately after their target (such as c!).\n",
    "\n",
    "\n",
    "**Binary operators** operate on two targets (such as 2 + 3) and are infix because they appear in between their two targets.\n",
    "\n",
    "\n",
    "**Ternary operators** operate on three targets. Like C, Swift has only one ternary operator, the ternary conditional operator (a ? b : c)."
   ]
  },
  {
   "cell_type": "markdown",
   "metadata": {},
   "source": [
    "# Assignment Operator\n",
    "\n"
   ]
  },
  {
   "cell_type": "markdown",
   "metadata": {},
   "source": [
    "The assignment operator (a = b) initializes or updates the value of a with the value of b:\n",
    "\n"
   ]
  },
  {
   "cell_type": "code",
   "execution_count": 1,
   "metadata": {},
   "outputs": [
    {
     "data": {
      "text/plain": [
       "b: Int = 10\r\n",
       "a: Int = 5"
      ]
     },
     "execution_count": 1,
     "metadata": {},
     "output_type": "execute_result"
    }
   ],
   "source": [
    "let b = 10\n",
    "var a = 5\n",
    "a = b\n",
    "// a is now equal to 10"
   ]
  },
  {
   "cell_type": "markdown",
   "metadata": {},
   "source": [
    "If the right side of the assignment is a tuple with multiple values, its elements can be decomposed into multiple constants or variables at once:"
   ]
  },
  {
   "cell_type": "code",
   "execution_count": null,
   "metadata": {},
   "outputs": [],
   "source": [
    "let (x, y) = (1, 2)\n",
    "// x is equal to 1, and y is equal to 2"
   ]
  },
  {
   "cell_type": "markdown",
   "metadata": {},
   "source": [
    "# Arithmetic Operators\n",
    "\n"
   ]
  },
  {
   "cell_type": "markdown",
   "metadata": {},
   "source": [
    "Swift supports the four standard arithmetic operators for all number types:\n",
    "\n",
    "- Addition (+)\n",
    "- Subtraction (-)\n",
    "- Multiplication (*)\n",
    "- Division (/)"
   ]
  },
  {
   "cell_type": "markdown",
   "metadata": {},
   "source": [
    "```\n",
    "1 + 2       // equals 3\n",
    "5 - 3       // equals 2\n",
    "2 * 3       // equals 6\n",
    "10.0 / 2.5  // equals 4.0\n",
    "```"
   ]
  },
  {
   "cell_type": "markdown",
   "metadata": {},
   "source": [
    "The addition operator is also supported for String concatenation:"
   ]
  },
  {
   "cell_type": "markdown",
   "metadata": {},
   "source": [
    "        \"hello, \" + \"world\"  // equals \"hello, world\""
   ]
  },
  {
   "cell_type": "markdown",
   "metadata": {},
   "source": [
    "# Remainder Operator\n",
    "The remainder operator (a % b) works out how many multiples of b will fit inside a and returns the value that is left over (known as the remainder)."
   ]
  },
  {
   "cell_type": "code",
   "execution_count": null,
   "metadata": {},
   "outputs": [],
   "source": [
    "9 % 4 // equals 1"
   ]
  },
  {
   "cell_type": "markdown",
   "metadata": {},
   "source": [
    "# Unary Minus Operator\n"
   ]
  },
  {
   "cell_type": "code",
   "execution_count": 2,
   "metadata": {},
   "outputs": [
    {
     "data": {
      "text/plain": [
       "three: Int = 3\r\n",
       "minusThree: Int = -3\r\n",
       "plusThree: Int = 3"
      ]
     },
     "execution_count": 2,
     "metadata": {},
     "output_type": "execute_result"
    }
   ],
   "source": [
    "let three = 3\n",
    "let minusThree = -three       // minusThree equals -3\n",
    "let plusThree = -minusThree   // plusThree equals 3, or \"minus minus three\""
   ]
  },
  {
   "cell_type": "markdown",
   "metadata": {},
   "source": [
    "# Unary Plus Operator\n",
    "The unary plus operator (+) simply returns the value it operates on, without any change:\n",
    "\n"
   ]
  },
  {
   "cell_type": "code",
   "execution_count": 3,
   "metadata": {},
   "outputs": [
    {
     "data": {
      "text/plain": [
       "minusSix: Int = -6\r\n",
       "alsoMinusSix: Int = -6"
      ]
     },
     "execution_count": 3,
     "metadata": {},
     "output_type": "execute_result"
    }
   ],
   "source": [
    "let minusSix = -6\n",
    "let alsoMinusSix = +minusSix  // alsoMinusSix equals -6"
   ]
  },
  {
   "cell_type": "markdown",
   "metadata": {},
   "source": [
    "Although the unary plus operator doesn’t actually do anything, you can use it to provide symmetry in your code for positive numbers when also using the unary minus operator for negative numbers."
   ]
  },
  {
   "cell_type": "markdown",
   "metadata": {},
   "source": [
    "# Compound Assignment Operators\n",
    "\n"
   ]
  },
  {
   "cell_type": "markdown",
   "metadata": {},
   "source": [
    "Like C, Swift provides compound assignment operators that combine assignment (=) with another operation. One example is the addition assignment operator (+=):\n",
    "\n"
   ]
  },
  {
   "cell_type": "code",
   "execution_count": 4,
   "metadata": {},
   "outputs": [
    {
     "data": {
      "text/plain": [
       "a: Int = 1"
      ]
     },
     "execution_count": 4,
     "metadata": {},
     "output_type": "execute_result"
    }
   ],
   "source": [
    "var a = 1"
   ]
  },
  {
   "cell_type": "code",
   "execution_count": 9,
   "metadata": {},
   "outputs": [
    {
     "data": {
      "text/plain": [
       "11"
      ]
     },
     "execution_count": 9,
     "metadata": {},
     "output_type": "execute_result"
    }
   ],
   "source": [
    "a += 2\n",
    "// a is now equal to 3\n",
    "\n",
    "print(a)"
   ]
  },
  {
   "cell_type": "markdown",
   "metadata": {},
   "source": [
    "The expression a += 2 is shorthand for a = a + 2. Effectively, the addition and the assignment are combined into one operator that performs both tasks at the same time."
   ]
  },
  {
   "cell_type": "code",
   "execution_count": 7,
   "metadata": {},
   "outputs": [
    {
     "data": {
      "text/plain": [
       "error: could not fetch result -- error: Couldn't apply expression side effects : Couldn't dematerialize b: corresponding symbol wasn't found"
      ]
     },
     "execution_count": 7,
     "metadata": {},
     "output_type": "execute_result"
    }
   ],
   "source": [
    "let b = a += 2"
   ]
  },
  {
   "cell_type": "markdown",
   "metadata": {},
   "source": [
    "# Comparison Operators\n",
    "\n"
   ]
  },
  {
   "cell_type": "markdown",
   "metadata": {},
   "source": [
    "Swift supports the following comparison operators:\n",
    "\n",
    "- Equal to (a == b)\n",
    "- Not equal to (a != b)\n",
    "- Greater than (a > b)\n",
    "- Less than (a < b)\n",
    "- Greater than or equal to (a >= b)\n",
    "- Less than or equal to (a <= b)"
   ]
  },
  {
   "cell_type": "markdown",
   "metadata": {},
   "source": [
    "Note: \n",
    "- Swift also provides two identity operators (=== and !==), which you use to test whether two object references both refer to the same object instance. For more information, see Identity Operators.\n"
   ]
  },
  {
   "cell_type": "code",
   "execution_count": 11,
   "metadata": {},
   "outputs": [
    {
     "data": {
      "text/plain": [
       "$R0: Bool = true\r\n",
       "$R1: Bool = true\r\n",
       "$R2: Bool = true\r\n",
       "$R3: Bool = true\r\n",
       "$R4: Bool = true\r\n",
       "$R5: Bool = false"
      ]
     },
     "execution_count": 11,
     "metadata": {},
     "output_type": "execute_result"
    }
   ],
   "source": [
    "1 == 1   // true because 1 is equal to 1\n",
    "2 != 1   // true because 2 is not equal to 1\n",
    "2 > 1    // true because 2 is greater than 1\n",
    "1 < 2    // true because 1 is less than 2\n",
    "1 >= 1   // true because 1 is greater than or equal to 1\n",
    "2 <= 1   // false because 2 is not less than or equal to 1"
   ]
  },
  {
   "cell_type": "markdown",
   "metadata": {},
   "source": [
    "You can compare two tuples if they have the same type and the same number of values. Tuples are compared from left to right, one value at a time, until the comparison finds two values that aren’t equal. Those two values are compared, and the result of that comparison determines the overall result of the tuple comparison. If all the elements are equal, then the tuples themselves are equal. For example:"
   ]
  },
  {
   "cell_type": "code",
   "execution_count": 12,
   "metadata": {},
   "outputs": [
    {
     "data": {
      "text/plain": [
       "$R6: Bool = true\r\n",
       "$R7: Bool = true\r\n",
       "$R8: Bool = true"
      ]
     },
     "execution_count": 12,
     "metadata": {},
     "output_type": "execute_result"
    }
   ],
   "source": [
    "(1, \"zebra\") < (2, \"apple\")   // true because 1 is less than 2; \"zebra\" and \"apple\" are not compared\n",
    "(3, \"apple\") < (3, \"bird\")    // true because 3 is equal to 3, and \"apple\" is less than \"bird\"\n",
    "(4, \"dog\") == (4, \"dog\")      // true because 4 is equal to 4, and \"dog\" is equal to \"dog\"\n"
   ]
  },
  {
   "cell_type": "code",
   "execution_count": null,
   "metadata": {},
   "outputs": [],
   "source": [
    "(4, \"dog\") == (4, \"dog\", 2) //will fail because different size"
   ]
  },
  {
   "cell_type": "code",
   "execution_count": null,
   "metadata": {},
   "outputs": [],
   "source": [
    "(\"blue\", false) < (\"purple\", true)  // Error because < can't compare Boolean values\n"
   ]
  },
  {
   "cell_type": "markdown",
   "metadata": {},
   "source": [
    "# Ternary Conditional Operator\n",
    "\n"
   ]
  },
  {
   "cell_type": "markdown",
   "metadata": {},
   "source": [
    "The ternary conditional operator is a special operator with three parts, \n",
    "\n",
    "- **which takes the form question ? answer1 : answer2**\n",
    "\n",
    "It’s a shortcut for evaluating one of two expressions based on whether question is true or false. If question is true, it evaluates answer1 and returns its value; otherwise, it evaluates answer2 and returns its value."
   ]
  },
  {
   "cell_type": "markdown",
   "metadata": {},
   "source": [
    "Here’s an example, which calculates the height for a table row. The row height should be 50 points taller than the content height if the row has a header, and 20 points taller if the row doesn’t have a header:"
   ]
  },
  {
   "cell_type": "code",
   "execution_count": 27,
   "metadata": {},
   "outputs": [
    {
     "data": {
      "text/plain": [
       "contentHeight: Int = 40\r\n",
       "hasHeader: Bool = true\r\n",
       "rowHeight: Int = 90"
      ]
     },
     "execution_count": 27,
     "metadata": {},
     "output_type": "execute_result"
    }
   ],
   "source": [
    "let contentHeight = 40\n",
    "let hasHeader = true\n",
    "let rowHeight = contentHeight + (hasHeader ? 50 : 20)\n",
    "// rowHeight is equal to 90"
   ]
  },
  {
   "cell_type": "markdown",
   "metadata": {},
   "source": [
    "# Nil-Coalescing Operator\n",
    "\n"
   ]
  },
  {
   "cell_type": "markdown",
   "metadata": {},
   "source": [
    "The nil-coalescing operator (a ?? b) unwraps an optional a if it contains a value, or returns a default value b if a is nil. The expression a is always of an optional type. The expression b must match the type that is stored inside a.\n",
    "\n",
    "\n",
    "The nil-coalescing operator is shorthand for the code below:\n",
    "\n",
    "\n"
   ]
  },
  {
   "cell_type": "code",
   "execution_count": 30,
   "metadata": {},
   "outputs": [
    {
     "data": {
      "text/plain": [
       "defaultColorName: String = \"red\"\r\n",
       "userDefinedColorName: String? = nil\r\n",
       "colorNameToUse: String = \"red\""
      ]
     },
     "execution_count": 30,
     "metadata": {},
     "output_type": "execute_result"
    }
   ],
   "source": [
    "let defaultColorName = \"red\"\n",
    "var userDefinedColorName: String?   // defaults to nil\n",
    "\n",
    "var colorNameToUse = userDefinedColorName ?? defaultColorName\n",
    "// userDefinedColorName is nil, so colorNameToUse is set to the default of \"red\""
   ]
  },
  {
   "cell_type": "markdown",
   "metadata": {},
   "source": [
    "# Range Operators\n",
    "\n"
   ]
  },
  {
   "cell_type": "markdown",
   "metadata": {},
   "source": [
    "Swift includes several range operators, which are shortcuts for expressing a range of values.\n",
    "\n"
   ]
  },
  {
   "cell_type": "markdown",
   "metadata": {},
   "source": [
    "# Closed Range Operator\n"
   ]
  },
  {
   "cell_type": "markdown",
   "metadata": {},
   "source": [
    "The closed range operator (a...b) defines a range that runs from a to b, and includes the values a and b. The value of a must not be greater than b.\n",
    "\n",
    "The closed range operator is useful when iterating over a range in which you want all of the values to be used, such as with a for-in loop:"
   ]
  },
  {
   "cell_type": "code",
   "execution_count": 31,
   "metadata": {},
   "outputs": [
    {
     "data": {
      "text/plain": [
       "1 times 5 is 5\r",
       "\r\n",
       "2 times 5 is 10\r",
       "\r\n",
       "3 times 5 is 15\r",
       "\r\n",
       "4 times 5 is 20\r",
       "\r\n",
       "5 times 5 is 25"
      ]
     },
     "execution_count": 31,
     "metadata": {},
     "output_type": "execute_result"
    }
   ],
   "source": [
    "for index in 1...5 {\n",
    "    print(\"\\(index) times 5 is \\(index * 5)\")\n",
    "}"
   ]
  },
  {
   "cell_type": "markdown",
   "metadata": {},
   "source": [
    "# Half-Open Range Operator\n"
   ]
  },
  {
   "cell_type": "markdown",
   "metadata": {},
   "source": [
    "The half-open range operator (a..<b) defines a range that runs from a to b, but doesn’t include b. It’s said to be half-open because it contains its first value, but not its final value. As with the closed range operator, the value of a must not be greater than b. If the value of a is equal to b, then the resulting range will be empty.\n",
    "\n",
    "Half-open ranges are particularly useful when you work with zero-based lists such as arrays, where it’s useful to count up to (but not including) the length of the list:"
   ]
  },
  {
   "cell_type": "code",
   "execution_count": 34,
   "metadata": {},
   "outputs": [
    {
     "data": {
      "text/plain": [
       "names: [String] = 4 values {\r\n",
       "  [0] = \"Anna\"\r\n",
       "  [1] = \"Alex\"\r\n",
       "  [2] = \"Brian\"\r\n",
       "  [3] = \"Jack\"\r\n",
       "}\r\n",
       "count: Int = 4\r\n",
       "Person 1 is called Anna\r",
       "\r\n",
       "Person 2 is called Alex\r",
       "\r\n",
       "Person 3 is called Brian\r",
       "\r\n",
       "Person 4 is called Jack"
      ]
     },
     "execution_count": 34,
     "metadata": {},
     "output_type": "execute_result"
    }
   ],
   "source": [
    "let names = [\"Anna\", \"Alex\", \"Brian\", \"Jack\"]\n",
    "let count = names.count\n",
    "for i in 0..<count {\n",
    "    print(\"Person \\(i + 1) is called \\(names[i])\")\n",
    "}"
   ]
  },
  {
   "cell_type": "markdown",
   "metadata": {},
   "source": [
    "**Note that the array contains four items, but 0..<count only counts as far as 3 (the index of the last item in the array), because it’s a half-open range.**"
   ]
  },
  {
   "cell_type": "markdown",
   "metadata": {},
   "source": [
    "# Logical Operators\n",
    "\n"
   ]
  },
  {
   "cell_type": "markdown",
   "metadata": {},
   "source": [
    "Logical operators modify or combine the Boolean logic values true and false. Swift supports the three standard logical operators found in C-based languages:\n",
    "\n",
    "- Logical NOT (!a)\n",
    "- Logical AND (a && b)\n",
    "- Logical OR (a || b)"
   ]
  },
  {
   "cell_type": "code",
   "execution_count": null,
   "metadata": {},
   "outputs": [],
   "source": []
  }
 ],
 "metadata": {
  "kernelspec": {
   "display_name": "Swift",
   "language": "swift",
   "name": "iswiftkernel"
  },
  "language_info": {
   "file_extension": ".swift",
   "mimetype": "text/swift",
   "name": "swift",
   "version": "2.1"
  }
 },
 "nbformat": 4,
 "nbformat_minor": 4
}
